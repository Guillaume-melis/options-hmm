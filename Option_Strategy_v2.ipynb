{
  "nbformat": 4,
  "nbformat_minor": 0,
  "metadata": {
    "colab": {
      "provenance": []
    },
    "kernelspec": {
      "name": "python3",
      "display_name": "Python 3"
    },
    "language_info": {
      "name": "python"
    }
  },
  "cells": [
    {
      "cell_type": "code",
      "execution_count": 43,
      "metadata": {
        "id": "jlGch5cWIXZ2"
      },
      "outputs": [],
      "source": [
        "\"\"\"\n",
        "Created on Thu Sep 12 16:39:54 2024\n",
        "@author: gmelis\n",
        "\"\"\"\n",
        "\n",
        "import math\n",
        "import numpy as np\n",
        "from decimal import Decimal\n",
        "import scipy.stats as si\n",
        "\n",
        "\"\"\"\n",
        "Stores common attributes of a stock option\n",
        "\"\"\"\n",
        "\n",
        "class StockOption(object):\n",
        "  def __init__(\n",
        "    self, S0, K, r=0.05, T=1, N=2, pu=0.5, pd=0.5,\n",
        "    div=0, sigma=0.3, is_put=False, is_am=False):\n",
        "\n",
        "    \"\"\"\n",
        "\n",
        "    Initialize the stock option base class.\n",
        "    Defaults to European call unless specified.\n",
        "\n",
        "    :param S0: initial stock price\n",
        "    :param K: strike price\n",
        "    :param r: risk-free interest rate\n",
        "    :param T: time to maturity\n",
        "    :param N: number of time steps\n",
        "    :param pu: probability at up state\n",
        "    :param pd: probability at down state\n",
        "    :param div: Dividend yield\n",
        "    :param is_put: True for a put option,\n",
        "    False for a call option\n",
        "    :param is_am: True for an American option,\n",
        "    False for a European option\n",
        "\n",
        "    \"\"\"\n",
        "    self.S0 = S0\n",
        "    self.K = K\n",
        "    self.r = r\n",
        "    self.T = T\n",
        "    self.N = max(1, N)\n",
        "    self.STs = [] # Declare the stock prices tree\n",
        "\n",
        "\n",
        "\n",
        "    \"\"\" Optional parameters used by derived classes \"\"\"\n",
        "    self.pu, self.pd = pu, pd\n",
        "    self.div = div\n",
        "    self.sigma = sigma\n",
        "    self.is_call = not is_put\n",
        "    self.is_european = not is_am\n",
        "\n",
        "  @property\n",
        "  def dt(self):\n",
        "    \"\"\" Single time step, in years \"\"\"\n",
        "    return self.T/float(self.N)\n",
        "\n",
        "  @property\n",
        "  def df(self):\n",
        "    \"\"\" The discount factor \"\"\"\n",
        "    return math.exp(-(self.r-self.div)*self.dt)\n",
        "\n",
        "\n",
        "\n",
        "class BlackScholesModel:\n",
        "    def __init__(self, S, K, T, r, sigma):\n",
        "      self.S = S # Underlying asset price\n",
        "      self.K = K # Option strike price\n",
        "      self.T = T # Time to expiration in years\n",
        "      self.r = r # Risk-free interest rate\n",
        "      self.sigma = sigma # Volatility of the underlying asset\n",
        "\n",
        "\n",
        "\n",
        "    def d1(self):\n",
        "      return (np.log(self.S / self.K) + (self.r + 0.5 * self.sigma**2) * self.T) / (\n",
        "      self.sigma * np.sqrt(self.T))\n",
        "\n",
        "    def d2(self):\n",
        "      return self.d1() - self.sigma * np.sqrt(self.T)\n",
        "\n",
        "    def call_option_price(self):\n",
        "      return self.S * si.norm.cdf(self.d1(), 0.0, 1.0) - self.K * np.exp(\n",
        "      -self.r * self.T) * si.norm.cdf(self.d2(), 0.0, 1.0)\n",
        "\n",
        "    def put_option_price(self):\n",
        "      return self.K * np.exp(-self.r * self.T) * si.norm.cdf(\n",
        "      -self.d2(), 0.0, 1.0) - self.S * si.norm.cdf(-self.d1(), 0.0, 1.0)\n",
        "\n",
        "\n",
        "\n",
        "\"\"\"\n",
        "\n",
        "Price a European option by the binomial tree model\n",
        "\n",
        "\"\"\"\n",
        "\n",
        "class BinomialEuropeanOption(StockOption):\n",
        "  def setup_parameters(self):\n",
        "    # Required calculations for the model\n",
        "    self.M = self.N+1 # Number of terminal nodes of tree\n",
        "    self.u = 1+self.pu # Expected value in the up stat\n",
        "    self.d = 1-self.pd # Expected value in the down state\n",
        "    self.qu = (math.exp((self.r-self.div)*self.dt)-self.d)/(self.u-self.d)\n",
        "    self.qd = 1-self.qu\n",
        "\n",
        "  def init_stock_price_tree(self):\n",
        "    # Initialize terminal price nodes to zeros\n",
        "    self.STs = np.zeros(self.M)\n",
        "    # Calculate expected stock prices for each node\n",
        "    for i in range(self.M):\n",
        "      self.STs[i] = self.S0 * (self.u**(self.N-i)) * (self.d**i)\n",
        "\n",
        "\n",
        "\n",
        "  def init_payoffs_tree(self):\n",
        "    \"\"\"\n",
        "    Returns the payoffs when the option\n",
        "    expires at terminal nodes\n",
        "    \"\"\"\n",
        "    if self.is_call:\n",
        "      return np.maximum(0, self.STs-self.K)\n",
        "    else:\n",
        "      return np.maximum(0, self.K-self.STs)\n",
        "\n",
        "\n",
        "\n",
        "  def traverse_tree(self, payoffs):\n",
        "    \"\"\"\n",
        "    Starting from the time the option expires, traverse\n",
        "    backwards and calculate discounted payoffs at each node\n",
        "    \"\"\"\n",
        "    for i in range(self.N):\n",
        "      payoffs = (payoffs[:-1]*self.qu +\n",
        "      payoffs[1:]*self.qd)*self.df\n",
        "    return payoffs\n",
        "\n",
        "\n",
        "\n",
        "  def begin_tree_traversal(self):\n",
        "    payoffs = self.init_payoffs_tree()\n",
        "    return self.traverse_tree(payoffs)\n",
        "\n",
        "  def price(self):\n",
        "    \"\"\" Entry point of the pricing implementation \"\"\"\n",
        "    self.setup_parameters()\n",
        "    self.init_stock_price_tree()\n",
        "    payoffs = self.begin_tree_traversal()\n",
        "\n",
        "    # Option value converges to first node\n",
        "    return payoffs[0]\n",
        "\n",
        "\n",
        "class Strategy:\n",
        "  def __init__(self, option1, option2, option3):\n",
        "    self.option1 = option1\n",
        "    self.option2 = option2\n",
        "    self.option3 = option3\n",
        "\n",
        "  def bull_spread(self):\n",
        "    bsm1 = BlackScholesModel(self.option1.S0,  self.option1.K,self.option1.T,self.option1.r, self.option1.sigma)\n",
        "    bsm2 = BlackScholesModel(self.option2.S0,  self.option2.K,self.option2.T,self.option2.r, self.option1.sigma)\n",
        "    if self.option1.is_call and self.option2.is_call:\n",
        "      if self.option1.K < self.option2.K:\n",
        "        return {\"Portfolio\" :[self.option1 , self.option2], \"Value\" : -bsm1.call_option_price()+bsm2.call_option_price() , \"Nature\" : \"BullSpread\",\"Strikes\": [self.option1.K,self.option2.K]}\n",
        "      else:\n",
        "        print(\"Invalid combination for bull spread\")\n",
        "    elif self.option.is_call==False and self.option2.is_call==False :\n",
        "      if self.option1.K < self.option2.K :\n",
        "        return {\"Portfolio\" :[self.option1 , self.option2], \"Value\" : -bsm1.put_option_price()+bsm2.put_option_price() , \"Nature\" : \"BullSpread\", \"Strikes\": [self.option1.K,self.option2.K]}\n",
        "      else :\n",
        "        print('Invalid combination for bull spread')\n",
        "\n",
        "  def bear_spread(self):\n",
        "    bsm1 = BlackScholesModel(self.option1.S0,  self.option1.K,self.option1.T,self.option1.r, self.option1.sigma)\n",
        "    bsm2 = BlackScholesModel(self.option2.S0,  self.option2.K,self.option2.T,self.option2.r, self.option1.sigma)\n",
        "    if self.option1.is_call==False and self.option2.is_call==False:\n",
        "      if self.option1.K < self.option2.K:\n",
        "        return {\"Portfolio\":[self.option1,self.option2] , \"Value\": bsm1.put_option_price()-bsm2.put_option_price() , \"Nature\":\"BearSpread\",\"Strikes\": [self.option1.K,self.option2.K]}\n",
        "      else:\n",
        "        print(\"Invalid combination for bear spread\")\n",
        "    elif self.option1.is_call and self.option2.is_call:\n",
        "      if self.option1.K < self.option2.K :\n",
        "        return {\"Portfolio\":[self.option1,self.option2] , \"Value\": bsm1.call_option_price()-bsm2.call_option_price() , \"Nature\":\"BearSpread\",\"Strikes\": [self.option1.K,self.option2.K]}\n",
        "      else :\n",
        "        print(\"Invalid combination for bear spread\")\n",
        "\n",
        "\n",
        "  def butterfly(self):\n",
        "    if self.option1.is_call and self.option2.is_call and self.option3.is_call:\n",
        "      bsm1 = BlackScholesModel(self.option1.S0,  self.option1.K,self.option1.T,self.option1.r, self.option1.sigma)\n",
        "      bsm2 = BlackScholesModel(self.option2.S0,  self.option2.K,self.option2.T,self.option2.r, self.option2.sigma)\n",
        "      bsm3 =  BlackScholesModel(self.option3.S0,  self.option3.K,self.option3.T,self.option2.r, self.option3.sigma)\n",
        "      if self.option1.K < self.option2.K and self.option2.K < self.option3.K:\n",
        "        return {\"Portfolio\":[self.option1,self.option2, self.option2, self.option3],\"Value\" : 2*bsm2.call_option_price()-bsm1.call_option_price()-bsm3.call_option_price(), \"Nature\":\"Butterfly\",\"Strikes\": [self.option1.K,self.option2.K,self.option3.K]}\n",
        "      else:\n",
        "        print(\"Invalid combination for butterfly\")\n",
        "    else:\n",
        "      print(\"Invalid combination for butterfly\")\n",
        "\n",
        "\n",
        "\n",
        "\n",
        "\n",
        "opt1 = StockOption(80,85)\n",
        "opt2 = StockOption(80, 95)\n",
        "opt3 = StockOption(80, 105)\n",
        "\n",
        "\n",
        "\n",
        "strat = Strategy(opt1,opt2,opt3)\n",
        "\n",
        "butterfly = strat.butterfly()\n",
        "bear = strat.bear_spread()\n",
        "bull = strat.bull_spread()\n",
        "\n",
        "\n",
        "\n",
        "opt4 = StockOption(80, 85)\n",
        "price = BlackScholesModel(80,85, 1, 0.05, 0.3).call_option_price()"
      ]
    },
    {
      "cell_type": "code",
      "source": [
        "pip install hmmlearn"
      ],
      "metadata": {
        "colab": {
          "base_uri": "https://localhost:8080/"
        },
        "id": "i9wNubhwMfpA",
        "outputId": "e05743b3-3718-4295-d1fe-f3737b2e382e"
      },
      "execution_count": null,
      "outputs": [
        {
          "output_type": "stream",
          "name": "stdout",
          "text": [
            "Requirement already satisfied: hmmlearn in /usr/local/lib/python3.10/dist-packages (0.3.3)\n",
            "Requirement already satisfied: numpy>=1.10 in /usr/local/lib/python3.10/dist-packages (from hmmlearn) (1.26.4)\n",
            "Requirement already satisfied: scikit-learn!=0.22.0,>=0.16 in /usr/local/lib/python3.10/dist-packages (from hmmlearn) (1.5.2)\n",
            "Requirement already satisfied: scipy>=0.19 in /usr/local/lib/python3.10/dist-packages (from hmmlearn) (1.13.1)\n",
            "Requirement already satisfied: joblib>=1.2.0 in /usr/local/lib/python3.10/dist-packages (from scikit-learn!=0.22.0,>=0.16->hmmlearn) (1.4.2)\n",
            "Requirement already satisfied: threadpoolctl>=3.1.0 in /usr/local/lib/python3.10/dist-packages (from scikit-learn!=0.22.0,>=0.16->hmmlearn) (3.5.0)\n"
          ]
        }
      ]
    },
    {
      "cell_type": "code",
      "source": [
        "import numpy as np\n",
        "import pandas as pd\n",
        "import yfinance as yf\n",
        "from hmmlearn import hmm"
      ],
      "metadata": {
        "id": "uHAxxkIyNlM5"
      },
      "execution_count": null,
      "outputs": []
    },
    {
      "cell_type": "code",
      "source": [
        "data = yf.download(\"^GSPC\") #^GSPC\n",
        "returns = np.log(data.Close / data.Close.shift(1))\n",
        "range = (data.High - data.Low)\n",
        "features = pd.concat([returns, range], axis=1).dropna()\n",
        "features.columns = [\"returns\", \"range\"]\n",
        "\n",
        "print(data.Close.head())"
      ],
      "metadata": {
        "colab": {
          "base_uri": "https://localhost:8080/"
        },
        "id": "J8gYTvqJNtsD",
        "outputId": "1e11effb-fe28-4139-8711-b6e5979af6c1"
      },
      "execution_count": 78,
      "outputs": [
        {
          "output_type": "stream",
          "name": "stderr",
          "text": [
            "\r[*********************100%***********************]  1 of 1 completed"
          ]
        },
        {
          "output_type": "stream",
          "name": "stdout",
          "text": [
            "Ticker                         ^GSPC\n",
            "Date                                \n",
            "1927-12-30 00:00:00+00:00  17.660000\n",
            "1928-01-03 00:00:00+00:00  17.760000\n",
            "1928-01-04 00:00:00+00:00  17.719999\n",
            "1928-01-05 00:00:00+00:00  17.549999\n",
            "1928-01-06 00:00:00+00:00  17.660000\n"
          ]
        },
        {
          "output_type": "stream",
          "name": "stderr",
          "text": [
            "\n"
          ]
        }
      ]
    },
    {
      "cell_type": "code",
      "source": [
        "model = hmm.GaussianHMM(\n",
        "    n_components=3,\n",
        "    covariance_type=\"diag\",\n",
        "    n_iter=1000,\n",
        ")\n",
        "model.fit(features)"
      ],
      "metadata": {
        "colab": {
          "base_uri": "https://localhost:8080/",
          "height": 80
        },
        "id": "6bpas593Nv_e",
        "outputId": "90f0767f-543f-4caf-b4dc-5995f32b5e07"
      },
      "execution_count": 79,
      "outputs": [
        {
          "output_type": "execute_result",
          "data": {
            "text/plain": [
              "GaussianHMM(n_components=3, n_iter=1000)"
            ],
            "text/html": [
              "<style>#sk-container-id-8 {\n",
              "  /* Definition of color scheme common for light and dark mode */\n",
              "  --sklearn-color-text: black;\n",
              "  --sklearn-color-line: gray;\n",
              "  /* Definition of color scheme for unfitted estimators */\n",
              "  --sklearn-color-unfitted-level-0: #fff5e6;\n",
              "  --sklearn-color-unfitted-level-1: #f6e4d2;\n",
              "  --sklearn-color-unfitted-level-2: #ffe0b3;\n",
              "  --sklearn-color-unfitted-level-3: chocolate;\n",
              "  /* Definition of color scheme for fitted estimators */\n",
              "  --sklearn-color-fitted-level-0: #f0f8ff;\n",
              "  --sklearn-color-fitted-level-1: #d4ebff;\n",
              "  --sklearn-color-fitted-level-2: #b3dbfd;\n",
              "  --sklearn-color-fitted-level-3: cornflowerblue;\n",
              "\n",
              "  /* Specific color for light theme */\n",
              "  --sklearn-color-text-on-default-background: var(--sg-text-color, var(--theme-code-foreground, var(--jp-content-font-color1, black)));\n",
              "  --sklearn-color-background: var(--sg-background-color, var(--theme-background, var(--jp-layout-color0, white)));\n",
              "  --sklearn-color-border-box: var(--sg-text-color, var(--theme-code-foreground, var(--jp-content-font-color1, black)));\n",
              "  --sklearn-color-icon: #696969;\n",
              "\n",
              "  @media (prefers-color-scheme: dark) {\n",
              "    /* Redefinition of color scheme for dark theme */\n",
              "    --sklearn-color-text-on-default-background: var(--sg-text-color, var(--theme-code-foreground, var(--jp-content-font-color1, white)));\n",
              "    --sklearn-color-background: var(--sg-background-color, var(--theme-background, var(--jp-layout-color0, #111)));\n",
              "    --sklearn-color-border-box: var(--sg-text-color, var(--theme-code-foreground, var(--jp-content-font-color1, white)));\n",
              "    --sklearn-color-icon: #878787;\n",
              "  }\n",
              "}\n",
              "\n",
              "#sk-container-id-8 {\n",
              "  color: var(--sklearn-color-text);\n",
              "}\n",
              "\n",
              "#sk-container-id-8 pre {\n",
              "  padding: 0;\n",
              "}\n",
              "\n",
              "#sk-container-id-8 input.sk-hidden--visually {\n",
              "  border: 0;\n",
              "  clip: rect(1px 1px 1px 1px);\n",
              "  clip: rect(1px, 1px, 1px, 1px);\n",
              "  height: 1px;\n",
              "  margin: -1px;\n",
              "  overflow: hidden;\n",
              "  padding: 0;\n",
              "  position: absolute;\n",
              "  width: 1px;\n",
              "}\n",
              "\n",
              "#sk-container-id-8 div.sk-dashed-wrapped {\n",
              "  border: 1px dashed var(--sklearn-color-line);\n",
              "  margin: 0 0.4em 0.5em 0.4em;\n",
              "  box-sizing: border-box;\n",
              "  padding-bottom: 0.4em;\n",
              "  background-color: var(--sklearn-color-background);\n",
              "}\n",
              "\n",
              "#sk-container-id-8 div.sk-container {\n",
              "  /* jupyter's `normalize.less` sets `[hidden] { display: none; }`\n",
              "     but bootstrap.min.css set `[hidden] { display: none !important; }`\n",
              "     so we also need the `!important` here to be able to override the\n",
              "     default hidden behavior on the sphinx rendered scikit-learn.org.\n",
              "     See: https://github.com/scikit-learn/scikit-learn/issues/21755 */\n",
              "  display: inline-block !important;\n",
              "  position: relative;\n",
              "}\n",
              "\n",
              "#sk-container-id-8 div.sk-text-repr-fallback {\n",
              "  display: none;\n",
              "}\n",
              "\n",
              "div.sk-parallel-item,\n",
              "div.sk-serial,\n",
              "div.sk-item {\n",
              "  /* draw centered vertical line to link estimators */\n",
              "  background-image: linear-gradient(var(--sklearn-color-text-on-default-background), var(--sklearn-color-text-on-default-background));\n",
              "  background-size: 2px 100%;\n",
              "  background-repeat: no-repeat;\n",
              "  background-position: center center;\n",
              "}\n",
              "\n",
              "/* Parallel-specific style estimator block */\n",
              "\n",
              "#sk-container-id-8 div.sk-parallel-item::after {\n",
              "  content: \"\";\n",
              "  width: 100%;\n",
              "  border-bottom: 2px solid var(--sklearn-color-text-on-default-background);\n",
              "  flex-grow: 1;\n",
              "}\n",
              "\n",
              "#sk-container-id-8 div.sk-parallel {\n",
              "  display: flex;\n",
              "  align-items: stretch;\n",
              "  justify-content: center;\n",
              "  background-color: var(--sklearn-color-background);\n",
              "  position: relative;\n",
              "}\n",
              "\n",
              "#sk-container-id-8 div.sk-parallel-item {\n",
              "  display: flex;\n",
              "  flex-direction: column;\n",
              "}\n",
              "\n",
              "#sk-container-id-8 div.sk-parallel-item:first-child::after {\n",
              "  align-self: flex-end;\n",
              "  width: 50%;\n",
              "}\n",
              "\n",
              "#sk-container-id-8 div.sk-parallel-item:last-child::after {\n",
              "  align-self: flex-start;\n",
              "  width: 50%;\n",
              "}\n",
              "\n",
              "#sk-container-id-8 div.sk-parallel-item:only-child::after {\n",
              "  width: 0;\n",
              "}\n",
              "\n",
              "/* Serial-specific style estimator block */\n",
              "\n",
              "#sk-container-id-8 div.sk-serial {\n",
              "  display: flex;\n",
              "  flex-direction: column;\n",
              "  align-items: center;\n",
              "  background-color: var(--sklearn-color-background);\n",
              "  padding-right: 1em;\n",
              "  padding-left: 1em;\n",
              "}\n",
              "\n",
              "\n",
              "/* Toggleable style: style used for estimator/Pipeline/ColumnTransformer box that is\n",
              "clickable and can be expanded/collapsed.\n",
              "- Pipeline and ColumnTransformer use this feature and define the default style\n",
              "- Estimators will overwrite some part of the style using the `sk-estimator` class\n",
              "*/\n",
              "\n",
              "/* Pipeline and ColumnTransformer style (default) */\n",
              "\n",
              "#sk-container-id-8 div.sk-toggleable {\n",
              "  /* Default theme specific background. It is overwritten whether we have a\n",
              "  specific estimator or a Pipeline/ColumnTransformer */\n",
              "  background-color: var(--sklearn-color-background);\n",
              "}\n",
              "\n",
              "/* Toggleable label */\n",
              "#sk-container-id-8 label.sk-toggleable__label {\n",
              "  cursor: pointer;\n",
              "  display: block;\n",
              "  width: 100%;\n",
              "  margin-bottom: 0;\n",
              "  padding: 0.5em;\n",
              "  box-sizing: border-box;\n",
              "  text-align: center;\n",
              "}\n",
              "\n",
              "#sk-container-id-8 label.sk-toggleable__label-arrow:before {\n",
              "  /* Arrow on the left of the label */\n",
              "  content: \"▸\";\n",
              "  float: left;\n",
              "  margin-right: 0.25em;\n",
              "  color: var(--sklearn-color-icon);\n",
              "}\n",
              "\n",
              "#sk-container-id-8 label.sk-toggleable__label-arrow:hover:before {\n",
              "  color: var(--sklearn-color-text);\n",
              "}\n",
              "\n",
              "/* Toggleable content - dropdown */\n",
              "\n",
              "#sk-container-id-8 div.sk-toggleable__content {\n",
              "  max-height: 0;\n",
              "  max-width: 0;\n",
              "  overflow: hidden;\n",
              "  text-align: left;\n",
              "  /* unfitted */\n",
              "  background-color: var(--sklearn-color-unfitted-level-0);\n",
              "}\n",
              "\n",
              "#sk-container-id-8 div.sk-toggleable__content.fitted {\n",
              "  /* fitted */\n",
              "  background-color: var(--sklearn-color-fitted-level-0);\n",
              "}\n",
              "\n",
              "#sk-container-id-8 div.sk-toggleable__content pre {\n",
              "  margin: 0.2em;\n",
              "  border-radius: 0.25em;\n",
              "  color: var(--sklearn-color-text);\n",
              "  /* unfitted */\n",
              "  background-color: var(--sklearn-color-unfitted-level-0);\n",
              "}\n",
              "\n",
              "#sk-container-id-8 div.sk-toggleable__content.fitted pre {\n",
              "  /* unfitted */\n",
              "  background-color: var(--sklearn-color-fitted-level-0);\n",
              "}\n",
              "\n",
              "#sk-container-id-8 input.sk-toggleable__control:checked~div.sk-toggleable__content {\n",
              "  /* Expand drop-down */\n",
              "  max-height: 200px;\n",
              "  max-width: 100%;\n",
              "  overflow: auto;\n",
              "}\n",
              "\n",
              "#sk-container-id-8 input.sk-toggleable__control:checked~label.sk-toggleable__label-arrow:before {\n",
              "  content: \"▾\";\n",
              "}\n",
              "\n",
              "/* Pipeline/ColumnTransformer-specific style */\n",
              "\n",
              "#sk-container-id-8 div.sk-label input.sk-toggleable__control:checked~label.sk-toggleable__label {\n",
              "  color: var(--sklearn-color-text);\n",
              "  background-color: var(--sklearn-color-unfitted-level-2);\n",
              "}\n",
              "\n",
              "#sk-container-id-8 div.sk-label.fitted input.sk-toggleable__control:checked~label.sk-toggleable__label {\n",
              "  background-color: var(--sklearn-color-fitted-level-2);\n",
              "}\n",
              "\n",
              "/* Estimator-specific style */\n",
              "\n",
              "/* Colorize estimator box */\n",
              "#sk-container-id-8 div.sk-estimator input.sk-toggleable__control:checked~label.sk-toggleable__label {\n",
              "  /* unfitted */\n",
              "  background-color: var(--sklearn-color-unfitted-level-2);\n",
              "}\n",
              "\n",
              "#sk-container-id-8 div.sk-estimator.fitted input.sk-toggleable__control:checked~label.sk-toggleable__label {\n",
              "  /* fitted */\n",
              "  background-color: var(--sklearn-color-fitted-level-2);\n",
              "}\n",
              "\n",
              "#sk-container-id-8 div.sk-label label.sk-toggleable__label,\n",
              "#sk-container-id-8 div.sk-label label {\n",
              "  /* The background is the default theme color */\n",
              "  color: var(--sklearn-color-text-on-default-background);\n",
              "}\n",
              "\n",
              "/* On hover, darken the color of the background */\n",
              "#sk-container-id-8 div.sk-label:hover label.sk-toggleable__label {\n",
              "  color: var(--sklearn-color-text);\n",
              "  background-color: var(--sklearn-color-unfitted-level-2);\n",
              "}\n",
              "\n",
              "/* Label box, darken color on hover, fitted */\n",
              "#sk-container-id-8 div.sk-label.fitted:hover label.sk-toggleable__label.fitted {\n",
              "  color: var(--sklearn-color-text);\n",
              "  background-color: var(--sklearn-color-fitted-level-2);\n",
              "}\n",
              "\n",
              "/* Estimator label */\n",
              "\n",
              "#sk-container-id-8 div.sk-label label {\n",
              "  font-family: monospace;\n",
              "  font-weight: bold;\n",
              "  display: inline-block;\n",
              "  line-height: 1.2em;\n",
              "}\n",
              "\n",
              "#sk-container-id-8 div.sk-label-container {\n",
              "  text-align: center;\n",
              "}\n",
              "\n",
              "/* Estimator-specific */\n",
              "#sk-container-id-8 div.sk-estimator {\n",
              "  font-family: monospace;\n",
              "  border: 1px dotted var(--sklearn-color-border-box);\n",
              "  border-radius: 0.25em;\n",
              "  box-sizing: border-box;\n",
              "  margin-bottom: 0.5em;\n",
              "  /* unfitted */\n",
              "  background-color: var(--sklearn-color-unfitted-level-0);\n",
              "}\n",
              "\n",
              "#sk-container-id-8 div.sk-estimator.fitted {\n",
              "  /* fitted */\n",
              "  background-color: var(--sklearn-color-fitted-level-0);\n",
              "}\n",
              "\n",
              "/* on hover */\n",
              "#sk-container-id-8 div.sk-estimator:hover {\n",
              "  /* unfitted */\n",
              "  background-color: var(--sklearn-color-unfitted-level-2);\n",
              "}\n",
              "\n",
              "#sk-container-id-8 div.sk-estimator.fitted:hover {\n",
              "  /* fitted */\n",
              "  background-color: var(--sklearn-color-fitted-level-2);\n",
              "}\n",
              "\n",
              "/* Specification for estimator info (e.g. \"i\" and \"?\") */\n",
              "\n",
              "/* Common style for \"i\" and \"?\" */\n",
              "\n",
              ".sk-estimator-doc-link,\n",
              "a:link.sk-estimator-doc-link,\n",
              "a:visited.sk-estimator-doc-link {\n",
              "  float: right;\n",
              "  font-size: smaller;\n",
              "  line-height: 1em;\n",
              "  font-family: monospace;\n",
              "  background-color: var(--sklearn-color-background);\n",
              "  border-radius: 1em;\n",
              "  height: 1em;\n",
              "  width: 1em;\n",
              "  text-decoration: none !important;\n",
              "  margin-left: 1ex;\n",
              "  /* unfitted */\n",
              "  border: var(--sklearn-color-unfitted-level-1) 1pt solid;\n",
              "  color: var(--sklearn-color-unfitted-level-1);\n",
              "}\n",
              "\n",
              ".sk-estimator-doc-link.fitted,\n",
              "a:link.sk-estimator-doc-link.fitted,\n",
              "a:visited.sk-estimator-doc-link.fitted {\n",
              "  /* fitted */\n",
              "  border: var(--sklearn-color-fitted-level-1) 1pt solid;\n",
              "  color: var(--sklearn-color-fitted-level-1);\n",
              "}\n",
              "\n",
              "/* On hover */\n",
              "div.sk-estimator:hover .sk-estimator-doc-link:hover,\n",
              ".sk-estimator-doc-link:hover,\n",
              "div.sk-label-container:hover .sk-estimator-doc-link:hover,\n",
              ".sk-estimator-doc-link:hover {\n",
              "  /* unfitted */\n",
              "  background-color: var(--sklearn-color-unfitted-level-3);\n",
              "  color: var(--sklearn-color-background);\n",
              "  text-decoration: none;\n",
              "}\n",
              "\n",
              "div.sk-estimator.fitted:hover .sk-estimator-doc-link.fitted:hover,\n",
              ".sk-estimator-doc-link.fitted:hover,\n",
              "div.sk-label-container:hover .sk-estimator-doc-link.fitted:hover,\n",
              ".sk-estimator-doc-link.fitted:hover {\n",
              "  /* fitted */\n",
              "  background-color: var(--sklearn-color-fitted-level-3);\n",
              "  color: var(--sklearn-color-background);\n",
              "  text-decoration: none;\n",
              "}\n",
              "\n",
              "/* Span, style for the box shown on hovering the info icon */\n",
              ".sk-estimator-doc-link span {\n",
              "  display: none;\n",
              "  z-index: 9999;\n",
              "  position: relative;\n",
              "  font-weight: normal;\n",
              "  right: .2ex;\n",
              "  padding: .5ex;\n",
              "  margin: .5ex;\n",
              "  width: min-content;\n",
              "  min-width: 20ex;\n",
              "  max-width: 50ex;\n",
              "  color: var(--sklearn-color-text);\n",
              "  box-shadow: 2pt 2pt 4pt #999;\n",
              "  /* unfitted */\n",
              "  background: var(--sklearn-color-unfitted-level-0);\n",
              "  border: .5pt solid var(--sklearn-color-unfitted-level-3);\n",
              "}\n",
              "\n",
              ".sk-estimator-doc-link.fitted span {\n",
              "  /* fitted */\n",
              "  background: var(--sklearn-color-fitted-level-0);\n",
              "  border: var(--sklearn-color-fitted-level-3);\n",
              "}\n",
              "\n",
              ".sk-estimator-doc-link:hover span {\n",
              "  display: block;\n",
              "}\n",
              "\n",
              "/* \"?\"-specific style due to the `<a>` HTML tag */\n",
              "\n",
              "#sk-container-id-8 a.estimator_doc_link {\n",
              "  float: right;\n",
              "  font-size: 1rem;\n",
              "  line-height: 1em;\n",
              "  font-family: monospace;\n",
              "  background-color: var(--sklearn-color-background);\n",
              "  border-radius: 1rem;\n",
              "  height: 1rem;\n",
              "  width: 1rem;\n",
              "  text-decoration: none;\n",
              "  /* unfitted */\n",
              "  color: var(--sklearn-color-unfitted-level-1);\n",
              "  border: var(--sklearn-color-unfitted-level-1) 1pt solid;\n",
              "}\n",
              "\n",
              "#sk-container-id-8 a.estimator_doc_link.fitted {\n",
              "  /* fitted */\n",
              "  border: var(--sklearn-color-fitted-level-1) 1pt solid;\n",
              "  color: var(--sklearn-color-fitted-level-1);\n",
              "}\n",
              "\n",
              "/* On hover */\n",
              "#sk-container-id-8 a.estimator_doc_link:hover {\n",
              "  /* unfitted */\n",
              "  background-color: var(--sklearn-color-unfitted-level-3);\n",
              "  color: var(--sklearn-color-background);\n",
              "  text-decoration: none;\n",
              "}\n",
              "\n",
              "#sk-container-id-8 a.estimator_doc_link.fitted:hover {\n",
              "  /* fitted */\n",
              "  background-color: var(--sklearn-color-fitted-level-3);\n",
              "}\n",
              "</style><div id=\"sk-container-id-8\" class=\"sk-top-container\"><div class=\"sk-text-repr-fallback\"><pre>GaussianHMM(n_components=3, n_iter=1000)</pre><b>In a Jupyter environment, please rerun this cell to show the HTML representation or trust the notebook. <br />On GitHub, the HTML representation is unable to render, please try loading this page with nbviewer.org.</b></div><div class=\"sk-container\" hidden><div class=\"sk-item\"><div class=\"sk-estimator fitted sk-toggleable\"><input class=\"sk-toggleable__control sk-hidden--visually\" id=\"sk-estimator-id-8\" type=\"checkbox\" checked><label for=\"sk-estimator-id-8\" class=\"sk-toggleable__label fitted sk-toggleable__label-arrow fitted\">&nbsp;GaussianHMM<span class=\"sk-estimator-doc-link fitted\">i<span>Fitted</span></span></label><div class=\"sk-toggleable__content fitted\"><pre>GaussianHMM(n_components=3, n_iter=1000)</pre></div> </div></div></div></div>"
            ]
          },
          "metadata": {},
          "execution_count": 79
        }
      ]
    },
    {
      "cell_type": "code",
      "source": [
        "states = pd.Series(model.predict(features), index=data.index[1:])\n",
        "states.name = \"state\"\n",
        "states.hist()"
      ],
      "metadata": {
        "colab": {
          "base_uri": "https://localhost:8080/",
          "height": 447
        },
        "id": "X65sXPv0Nyaw",
        "outputId": "2526ef6d-98dd-4c31-8455-b00cad6bc64b"
      },
      "execution_count": 80,
      "outputs": [
        {
          "output_type": "execute_result",
          "data": {
            "text/plain": [
              "<Axes: >"
            ]
          },
          "metadata": {},
          "execution_count": 80
        },
        {
          "output_type": "display_data",
          "data": {
            "text/plain": [
              "<Figure size 640x480 with 1 Axes>"
            ],
            "image/png": "[encoded data removed]"
          },
          "metadata": {}
        }
      ]
    },
    {
      "cell_type": "code",
      "source": [
        "from datetime import datetime\n",
        "\n",
        "def increment_month(date_input):\n",
        "    \"\"\"\n",
        "    Incrémente le mois d'une date. Si le mois est 12, passe à l'année suivante.\n",
        "\n",
        "    Args:\n",
        "        date_input (datetime): La date à modifier.\n",
        "\n",
        "    Returns:\n",
        "        datetime: La nouvelle date avec le mois (ou l'année) modifié.\n",
        "    \"\"\"\n",
        "    year = date_input.year\n",
        "    month = date_input.month\n",
        "\n",
        "    if month < 12:\n",
        "        new_month = month + 1\n",
        "        new_date = datetime(year, new_month, date_input.day)\n",
        "    else:\n",
        "        new_year = year + 1\n",
        "        new_date = datetime(new_year, 1, date_input.day)\n",
        "\n",
        "    return new_date\n",
        "\n",
        "# Exemple d'utilisation\n",
        "date = datetime(1999, 12, 15)\n",
        "new_date = increment_month(date)\n",
        "print(\"Nouvelle date :\", new_date)\n",
        "\n",
        "def decrement_month(date_input):\n",
        "    \"\"\"\n",
        "    Incrémente le mois d'une date. Si le mois est 12, passe à l'année suivante.\n",
        "\n",
        "    Args:\n",
        "        date_input (datetime): La date à modifier.\n",
        "\n",
        "    Returns:\n",
        "        datetime: La nouvelle date avec le mois (ou l'année) modifié.\n",
        "    \"\"\"\n",
        "    year = date_input.year\n",
        "    month = date_input.month\n",
        "\n",
        "    if month > 1:\n",
        "        new_month = month - 1\n",
        "        new_date = datetime(year, new_month, date_input.day)\n",
        "    else:\n",
        "        new_year = year - 1\n",
        "        new_date = datetime(new_year, 12, date_input.day)\n",
        "\n",
        "    return new_date"
      ],
      "metadata": {
        "colab": {
          "base_uri": "https://localhost:8080/"
        },
        "id": "MpJdOLSGiSF7",
        "outputId": "de31c1ab-bf00-453a-9ce1-85954e198250"
      },
      "execution_count": null,
      "outputs": [
        {
          "output_type": "stream",
          "name": "stdout",
          "text": [
            "Nouvelle date : 2000-01-15 00:00:00\n"
          ]
        }
      ]
    },
    {
      "cell_type": "code",
      "source": [
        "def calculate_historical_volatility(stock_data, window=252):\n",
        "    log_returns = np.log(stock_data['Close'] / stock_data['Close'].shift(1))\n",
        "    volatility = np.sqrt(window) * log_returns.std()\n",
        "    return volatility\n",
        "\n",
        "jpm_volatility = calculate_historical_volatility(data)\n",
        "print(f\"Historical Volatility: {jpm_volatility}\")"
      ],
      "metadata": {
        "colab": {
          "base_uri": "https://localhost:8080/"
        },
        "id": "KCgDO-QbRkvg",
        "outputId": "28a7aee3-b3c1-4caf-df24-7ab10fb82d1f"
      },
      "execution_count": null,
      "outputs": [
        {
          "output_type": "stream",
          "name": "stdout",
          "text": [
            "Historical Volatility: Ticker\n",
            "^GSPC    0.189832\n",
            "dtype: float64\n"
          ]
        }
      ]
    },
    {
      "cell_type": "code",
      "source": [
        "def strategy(start_date,end_date=datetime.today()):\n",
        "  date = start_date\n",
        "  portfolio = []\n",
        "  gains = 0\n",
        "  Index = 1000\n",
        "  Index_value = []\n",
        "  dates = []\n",
        "  Gains =[]\n",
        "\n",
        "  while date < end_date :\n",
        "\n",
        "    date2 = increment_month(date)\n",
        "    date3 = increment_month(date2)\n",
        "    date_m1 = decrement_month(date)\n",
        "    date_m2 = decrement_month(date_m1)\n",
        "    data = yf.download(\"^GSPC\",start=date_m2, end=date)\n",
        "\n",
        "    dates+=[date]\n",
        "\n",
        "    returns = np.log(data.Close / data.Close.shift(1))\n",
        "    range = (data.High - data.Low)\n",
        "    features = pd.concat([returns, range], axis=1).dropna()\n",
        "    features.columns = [\"returns\", \"range\"]\n",
        "\n",
        "    model = hmm.GaussianHMM(n_components=3, covariance_type=\"diag\", n_iter=1000)\n",
        "    model.fit(features)\n",
        "\n",
        "    states = pd.Series(model.predict(features), index=data.index[1:])\n",
        "    states.name = \"state\"\n",
        "\n",
        "    result = states.mode()[0]\n",
        "    T = 22/252\n",
        "    r = 0.05\n",
        "    sigma = jpm_volatility\n",
        "    spot = data.Close.values[0][0]\n",
        "    #print(\"spot value :\",spot)\n",
        "\n",
        "    #vérification de la condition de vente\n",
        "\n",
        "    for val in portfolio :\n",
        "      #gains -= abs(val['Value'])\n",
        "      if val[\"Nature\"] == \"BullSpread\" :\n",
        "        if val[\"Strikes\"][1] < spot :\n",
        "          print('Exercice !')\n",
        "          gains +=  val[\"Strikes\"][1] - val[\"Strikes\"][0]\n",
        "          #Index += val[\"Strikes\"][1] - val[\"Strikes\"][0]\n",
        "        elif val[\"Strikes\"][0] < spot < val[\"Strikes\"][1] :\n",
        "          print(\"Exercice !\")\n",
        "          gains+= val[\"Strikes\"][0] - spot\n",
        "          #Index+= val[\"Strikes\"][0] - spot\n",
        "        else :\n",
        "          pass\n",
        "\n",
        "      elif val['Nature'] == \"BearSpread\" :\n",
        "        if val[\"Strikes\"][1] < spot :\n",
        "          pass\n",
        "        elif val[\"Strikes\"][0] < spot < val[\"Strikes\"][1] :\n",
        "          print(\"Exercice !\")\n",
        "          gains +=  val[\"Strikes\"][1] - spot\n",
        "          #Index += val[\"Strikes\"][1] - spot\n",
        "        elif spot < val[\"Strikes\"][0]:\n",
        "          print('Exercice !')\n",
        "          gains +=  val[\"Strikes\"][1] - val[\"Strikes\"][0]\n",
        "          #Index+= val[\"Strikes\"][1] - val[\"Strikes\"][0]\n",
        "\n",
        "      elif val['Nature']=='Butterfly' :\n",
        "        if spot <= val['Strikes'][0] :\n",
        "          pass\n",
        "        elif val['Strikes'][0] < spot < val['Strikes'][1] :\n",
        "          gains+= spot - val['Strikes'][0]\n",
        "          #Index+= spot - val['Strikes'][0]\n",
        "        elif val['Strikes'][1] < spot < val['Strikes'][2] :\n",
        "          gains+=  val['Strikes'][2] - spot\n",
        "          #Index+= val['Strikes'][2] - spot\n",
        "        else :\n",
        "          pass\n",
        "\n",
        "      portfolio.pop(portfolio.index(val))\n",
        "      #print(gains)\n",
        "\n",
        "\n",
        "    if result == 2 : #bear market\n",
        "      K1 = spot\n",
        "      K2 = 1.20 *spot\n",
        "      option1 = StockOption(spot,K1,r,T)\n",
        "      option2 = StockOption(spot,K2,r,T)\n",
        "\n",
        "      bear = Strategy(option1,option2,option2).bear_spread() #On peut potentiellement en acheter 10, 100 ,etc...\n",
        "\n",
        "      portfolio+=[bear]\n",
        "      gains -= abs(bear[\"Value\"])\n",
        "\n",
        "    elif result ==1 : #flat\n",
        "      K1 = 1.05*spot\n",
        "      K2 = 1.10*spot\n",
        "      K3 = 1.20*spot\n",
        "\n",
        "      option1 = StockOption(spot,K1,r,T)\n",
        "      option2 = StockOption(spot,K2,r,T)\n",
        "      option3 = StockOption(spot,K3,r,T)\n",
        "\n",
        "      butterfly = Strategy(option1,option2,option3).butterfly()\n",
        "\n",
        "      portfolio+=[butterfly]\n",
        "      gains -= abs(butterfly[\"Value\"])\n",
        "\n",
        "    elif result == 0 : #Bull market\n",
        "      K1 = 1.10*spot\n",
        "      K2 = 1.20*spot\n",
        "\n",
        "      option1 = StockOption(spot,K1,r,T)\n",
        "      option2 = StockOption(spot,K2,r,T)\n",
        "\n",
        "      bull = Strategy(option1,option2,option2).bull_spread()\n",
        "\n",
        "      portfolio+=[bull]\n",
        "      gains -= abs(bull[\"Value\"])\n",
        "\n",
        "    Index_value+=[Index]\n",
        "    Gains+=[gains]\n",
        "    print(gains)\n",
        "\n",
        "    date = date2\n",
        "\n",
        "\n",
        "  print(\"Gains réalisés : \", gains)\n",
        "  return [dates, Index_value,Gains]\n",
        "\n",
        "results = strategy(datetime(2019, 1, 1))"
      ],
      "metadata": {
        "colab": {
          "base_uri": "https://localhost:8080/"
        },
        "id": "t-aS6rgZrl7J",
        "outputId": "89c514d3-514f-4d00-e078-67e73084d9f3"
      },
      "execution_count": 75,
      "outputs": [
        {
          "output_type": "stream",
          "name": "stderr",
          "text": [
            "[*********************100%***********************]  1 of 1 completed\n",
            "[*********************100%***********************]  1 of 1 completed\n",
            "[*********************100%***********************]  1 of 1 completed\n",
            "[*********************100%***********************]  1 of 1 completed"
          ]
        },
        {
          "output_type": "stream",
          "name": "stdout",
          "text": [
            "-17.931795330045134\n",
            "-36.190769007598504\n",
            "-46.21096439877345\n"
          ]
        },
        {
          "output_type": "stream",
          "name": "stderr",
          "text": [
            "\n",
            "[*********************100%***********************]  1 of 1 completed\n",
            "[*********************100%***********************]  1 of 1 completed\n",
            "[*********************100%***********************]  1 of 1 completed\n",
            "[*********************100%***********************]  1 of 1 completed"
          ]
        },
        {
          "output_type": "stream",
          "name": "stdout",
          "text": [
            "-74.512403116169\n",
            "Exercice !\n",
            "351.2875577947383\n",
            "339.84155790582525\n",
            "232.57276706984325\n"
          ]
        },
        {
          "output_type": "stream",
          "name": "stderr",
          "text": [
            "\n",
            "[*********************100%***********************]  1 of 1 completed\n",
            "[*********************100%***********************]  1 of 1 completed"
          ]
        },
        {
          "output_type": "stream",
          "name": "stdout",
          "text": [
            "Exercice !\n",
            "799.360271166726\n",
            "690.6019024926734\n"
          ]
        },
        {
          "output_type": "stream",
          "name": "stderr",
          "text": [
            "\n",
            "WARNING:hmmlearn.base:Model is not converging.  Current: -49.90468733806199 is not greater than -49.89461422057999. Delta is -0.010073117482001237\n",
            "[*********************100%***********************]  1 of 1 completed\n",
            "[*********************100%***********************]  1 of 1 completed"
          ]
        },
        {
          "output_type": "stream",
          "name": "stdout",
          "text": [
            "Exercice !\n",
            "1271.6771233697038\n",
            "1260.0751133876263\n"
          ]
        },
        {
          "output_type": "stream",
          "name": "stderr",
          "text": [
            "\n",
            "[*********************100%***********************]  1 of 1 completed\n",
            "[*********************100%***********************]  1 of 1 completed"
          ]
        },
        {
          "output_type": "stream",
          "name": "stdout",
          "text": [
            "1152.2002192071009\n",
            "Exercice !\n",
            "1501.0683847339797\n"
          ]
        },
        {
          "output_type": "stream",
          "name": "stderr",
          "text": [
            "\n",
            "[*********************100%***********************]  1 of 1 completed\n",
            "[*********************100%***********************]  1 of 1 completed"
          ]
        },
        {
          "output_type": "stream",
          "name": "stdout",
          "text": [
            "Exercice !\n",
            "2047.1143444917986\n",
            "2034.1088050549583\n"
          ]
        },
        {
          "output_type": "stream",
          "name": "stderr",
          "text": [
            "\n",
            "[*********************100%***********************]  1 of 1 completed\n",
            "[*********************100%***********************]  1 of 1 completed"
          ]
        },
        {
          "output_type": "stream",
          "name": "stdout",
          "text": [
            "1914.9091136092422\n",
            "Exercice !\n",
            "2552.356708440473\n"
          ]
        },
        {
          "output_type": "stream",
          "name": "stderr",
          "text": [
            "\n",
            "[*********************100%***********************]  1 of 1 completed\n",
            "[*********************100%***********************]  1 of 1 completed"
          ]
        },
        {
          "output_type": "stream",
          "name": "stdout",
          "text": [
            "2536.1908262900934\n",
            "Exercice !\n",
            "2404.5079252067035\n"
          ]
        },
        {
          "output_type": "stream",
          "name": "stderr",
          "text": [
            "\n",
            "[*********************100%***********************]  1 of 1 completed\n",
            "[*********************100%***********************]  1 of 1 completed"
          ]
        },
        {
          "output_type": "stream",
          "name": "stdout",
          "text": [
            "2384.512551497883\n",
            "2364.1237122776233\n"
          ]
        },
        {
          "output_type": "stream",
          "name": "stderr",
          "text": [
            "\n",
            "[*********************100%***********************]  1 of 1 completed\n",
            "[*********************100%***********************]  1 of 1 completed"
          ]
        },
        {
          "output_type": "stream",
          "name": "stdout",
          "text": [
            "2342.5652104650217\n",
            "2319.4883407192465\n"
          ]
        },
        {
          "output_type": "stream",
          "name": "stderr",
          "text": [
            "\n",
            "WARNING:hmmlearn.base:Model is not converging.  Current: -53.565311533020505 is not greater than -53.56526372181349. Delta is -4.781120701835562e-05\n",
            "[*********************100%***********************]  1 of 1 completed\n",
            "[*********************100%***********************]  1 of 1 completed"
          ]
        },
        {
          "output_type": "stream",
          "name": "stdout",
          "text": [
            "2195.4500965179545\n",
            "Exercice !\n",
            "2849.949329286371\n"
          ]
        },
        {
          "output_type": "stream",
          "name": "stderr",
          "text": [
            "\n",
            "[*********************100%***********************]  1 of 1 completed\n",
            "[*********************100%***********************]  1 of 1 completed"
          ]
        },
        {
          "output_type": "stream",
          "name": "stdout",
          "text": [
            "Exercice !\n",
            "2804.7978809151905\n",
            "2669.0246587012616\n"
          ]
        },
        {
          "output_type": "stream",
          "name": "stderr",
          "text": [
            "\n",
            "[*********************100%***********************]  1 of 1 completed\n",
            "[*********************100%***********************]  1 of 1 completed"
          ]
        },
        {
          "output_type": "stream",
          "name": "stdout",
          "text": [
            "Exercice !\n",
            "3197.4852011218186\n",
            "Exercice !\n",
            "3798.765440823891\n"
          ]
        },
        {
          "output_type": "stream",
          "name": "stderr",
          "text": [
            "\n",
            "[*********************100%***********************]  1 of 1 completed\n",
            "[*********************100%***********************]  1 of 1 completed"
          ]
        },
        {
          "output_type": "stream",
          "name": "stdout",
          "text": [
            "3651.2803414238197\n",
            "Exercice !\n",
            "4255.029373367112\n"
          ]
        },
        {
          "output_type": "stream",
          "name": "stderr",
          "text": [
            "\n",
            "[*********************100%***********************]  1 of 1 completed\n",
            "[*********************100%***********************]  1 of 1 completed"
          ]
        },
        {
          "output_type": "stream",
          "name": "stdout",
          "text": [
            "4100.860637866323\n",
            "Exercice !\n",
            "4806.12327543796\n"
          ]
        },
        {
          "output_type": "stream",
          "name": "stderr",
          "text": [
            "\n",
            "[*********************100%***********************]  1 of 1 completed\n",
            "[*********************100%***********************]  1 of 1 completed"
          ]
        },
        {
          "output_type": "stream",
          "name": "stdout",
          "text": [
            "4788.609460278419\n",
            "4759.005775497284\n"
          ]
        },
        {
          "output_type": "stream",
          "name": "stderr",
          "text": [
            "\n",
            "[*********************100%***********************]  1 of 1 completed\n",
            "[*********************100%***********************]  1 of 1 completed"
          ]
        },
        {
          "output_type": "stream",
          "name": "stdout",
          "text": [
            "4730.495192297134\n",
            "4712.077136119327\n"
          ]
        },
        {
          "output_type": "stream",
          "name": "stderr",
          "text": [
            "\n",
            "[*********************100%***********************]  1 of 1 completed\n",
            "[*********************100%***********************]  1 of 1 completed"
          ]
        },
        {
          "output_type": "stream",
          "name": "stdout",
          "text": [
            "4682.545756474951\n",
            "4663.397591540016\n"
          ]
        },
        {
          "output_type": "stream",
          "name": "stderr",
          "text": [
            "\n",
            "[*********************100%***********************]  1 of 1 completed\n",
            "[*********************100%***********************]  1 of 1 completed\n"
          ]
        },
        {
          "output_type": "stream",
          "name": "stdout",
          "text": [
            "4645.247522013569\n",
            "4617.069222932405\n"
          ]
        },
        {
          "output_type": "stream",
          "name": "stderr",
          "text": [
            "[*********************100%***********************]  1 of 1 completed\n",
            "[*********************100%***********************]  1 of 1 completed"
          ]
        },
        {
          "output_type": "stream",
          "name": "stdout",
          "text": [
            "4587.32308457096\n",
            "4560.132078104413\n"
          ]
        },
        {
          "output_type": "stream",
          "name": "stderr",
          "text": [
            "\n",
            "[*********************100%***********************]  1 of 1 completed\n",
            "[*********************100%***********************]  1 of 1 completed"
          ]
        },
        {
          "output_type": "stream",
          "name": "stdout",
          "text": [
            "4533.295405149197\n",
            "4508.26410167651\n"
          ]
        },
        {
          "output_type": "stream",
          "name": "stderr",
          "text": [
            "\n",
            "[*********************100%***********************]  1 of 1 completed\n"
          ]
        },
        {
          "output_type": "stream",
          "name": "stdout",
          "text": [
            "4357.155603155245\n",
            "Exercice !\n",
            "5154.924230522467\n"
          ]
        },
        {
          "output_type": "stream",
          "name": "stderr",
          "text": [
            "\r[*********************100%***********************]  1 of 1 completed\n",
            "WARNING:hmmlearn.base:Model is not converging.  Current: -88.86498144709918 is not greater than -88.85152423779792. Delta is -0.013457209301265038\n",
            "[*********************100%***********************]  1 of 1 completed\n",
            "[*********************100%***********************]  1 of 1 completed"
          ]
        },
        {
          "output_type": "stream",
          "name": "stdout",
          "text": [
            "5130.854177993289\n",
            "5105.6215288377425\n"
          ]
        },
        {
          "output_type": "stream",
          "name": "stderr",
          "text": [
            "\n",
            "[*********************100%***********************]  1 of 1 completed\n",
            "[*********************100%***********************]  1 of 1 completed"
          ]
        },
        {
          "output_type": "stream",
          "name": "stdout",
          "text": [
            "5078.946219668399\n",
            "5053.922704254521\n"
          ]
        },
        {
          "output_type": "stream",
          "name": "stderr",
          "text": [
            "\n",
            "[*********************100%***********************]  1 of 1 completed\n"
          ]
        },
        {
          "output_type": "stream",
          "name": "stdout",
          "text": [
            "4902.79292323471\n",
            "Exercice !\n",
            "5710.860722154316\n"
          ]
        },
        {
          "output_type": "stream",
          "name": "stderr",
          "text": [
            "[*********************100%***********************]  1 of 1 completed\n",
            "[*********************100%***********************]  1 of 1 completed\n",
            "[*********************100%***********************]  1 of 1 completed"
          ]
        },
        {
          "output_type": "stream",
          "name": "stdout",
          "text": [
            "5683.871716366344\n",
            "5656.59897921494\n"
          ]
        },
        {
          "output_type": "stream",
          "name": "stderr",
          "text": [
            "\n",
            "[*********************100%***********************]  1 of 1 completed\n",
            "[*********************100%***********************]  1 of 1 completed"
          ]
        },
        {
          "output_type": "stream",
          "name": "stdout",
          "text": [
            "5639.748405774744\n",
            "5645.480238305184\n"
          ]
        },
        {
          "output_type": "stream",
          "name": "stderr",
          "text": [
            "\n",
            "[*********************100%***********************]  1 of 1 completed\n",
            "[*********************100%***********************]  1 of 1 completed"
          ]
        },
        {
          "output_type": "stream",
          "name": "stdout",
          "text": [
            "5615.532099265164\n",
            "5585.9828558108175\n"
          ]
        },
        {
          "output_type": "stream",
          "name": "stderr",
          "text": [
            "\n",
            "WARNING:hmmlearn.base:Model is not converging.  Current: -56.503211436376866 is not greater than -56.50113538115597. Delta is -0.002076055220896933\n",
            "[*********************100%***********************]  1 of 1 completed\n",
            "[*********************100%***********************]  1 of 1 completed"
          ]
        },
        {
          "output_type": "stream",
          "name": "stdout",
          "text": [
            "5568.863336688751\n",
            "5551.945537548958\n"
          ]
        },
        {
          "output_type": "stream",
          "name": "stderr",
          "text": [
            "\n",
            "[*********************100%***********************]  1 of 1 completed\n"
          ]
        },
        {
          "output_type": "stream",
          "name": "stdout",
          "text": [
            "5666.757295666737\n",
            "5635.722269517275\n"
          ]
        },
        {
          "output_type": "stream",
          "name": "stderr",
          "text": [
            "[*********************100%***********************]  1 of 1 completed\n",
            "[*********************100%***********************]  1 of 1 completed\n",
            "[*********************100%***********************]  1 of 1 completed"
          ]
        },
        {
          "output_type": "stream",
          "name": "stdout",
          "text": [
            "5616.136455297804\n",
            "5582.521627878239\n"
          ]
        },
        {
          "output_type": "stream",
          "name": "stderr",
          "text": [
            "\n",
            "[*********************100%***********************]  1 of 1 completed\n"
          ]
        },
        {
          "output_type": "stream",
          "name": "stdout",
          "text": [
            "5561.5881730714045\n",
            "5377.468351642911\n"
          ]
        },
        {
          "output_type": "stream",
          "name": "stderr",
          "text": [
            "[*********************100%***********************]  1 of 1 completed\n",
            "[*********************100%***********************]  1 of 1 completed\n",
            "[*********************100%***********************]  1 of 1 completed"
          ]
        },
        {
          "output_type": "stream",
          "name": "stdout",
          "text": [
            "Exercice !\n",
            "6081.564332376186\n",
            "6045.7377154254455\n"
          ]
        },
        {
          "output_type": "stream",
          "name": "stderr",
          "text": [
            "\n",
            "WARNING:hmmlearn.base:Model is not converging.  Current: -60.80431555729684 is not greater than -60.80320067507791. Delta is -0.0011148822189284147\n",
            "[*********************100%***********************]  1 of 1 completed"
          ]
        },
        {
          "output_type": "stream",
          "name": "stdout",
          "text": [
            "5845.904351732709\n",
            "Exercice !\n",
            "6650.139351213789\n",
            "Gains réalisés :  6650.139351213789\n"
          ]
        },
        {
          "output_type": "stream",
          "name": "stderr",
          "text": [
            "\n"
          ]
        }
      ]
    },
    {
      "cell_type": "code",
      "source": [
        "import matplotlib.pyplot as plt\n",
        "\n",
        "plt.plot(results[0],results[2])\n",
        "plt.show()"
      ],
      "metadata": {
        "colab": {
          "base_uri": "https://localhost:8080/",
          "height": 430
        },
        "id": "a_ENVass4Tar",
        "outputId": "99d56a19-b1a8-430f-e69e-11f2a7cd15de"
      },
      "execution_count": 76,
      "outputs": [
        {
          "output_type": "display_data",
          "data": {
            "text/plain": [
              "<Figure size 640x480 with 1 Axes>"
            ],
            "image/png": "[encoded data removed]"
          },
          "metadata": {}
        }
      ]
    },
    {
      "cell_type": "code",
      "source": [
        "stock = yf.download('^GSPC', start='2019-01-01', end='2024-09-13')\n",
        "plt.plot(stock['Close'], label='S&P500', color='blue')\n",
        "plt.show()"
      ],
      "metadata": {
        "colab": {
          "base_uri": "https://localhost:8080/",
          "height": 447
        },
        "id": "xWfHZox7FmjW",
        "outputId": "6d2151ed-29ad-49c2-dc6a-e7e357824fe7"
      },
      "execution_count": null,
      "outputs": [
        {
          "output_type": "stream",
          "name": "stderr",
          "text": [
            "\r[*********************100%***********************]  1 of 1 completed\n"
          ]
        },
        {
          "output_type": "display_data",
          "data": {
            "text/plain": [
              "<Figure size 640x480 with 1 Axes>"
            ],
            "image/png": "[encoded data removed]"
          },
          "metadata": {}
        }
      ]
    },
    {
      "cell_type": "code",
      "source": [],
      "metadata": {
        "id": "mBSlrjBAZfaO"
      },
      "execution_count": null,
      "outputs": []
    }
  ]
}