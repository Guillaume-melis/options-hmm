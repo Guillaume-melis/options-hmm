{
  "nbformat": 4,
  "nbformat_minor": 0,
  "metadata": {
    "colab": {
      "provenance": []
    },
    "kernelspec": {
      "name": "python3",
      "display_name": "Python 3"
    },
    "language_info": {
      "name": "python"
    }
  },
  "cells": [
    {
      "cell_type": "code",
      "execution_count": 2,
      "metadata": {
        "id": "jlGch5cWIXZ2"
      },
      "outputs": [],
      "source": [
        "\"\"\"\n",
        "Created on Thu Sep 12 16:39:54 2024\n",
        "@author: gmelis\n",
        "\"\"\"\n",
        "\n",
        "import math\n",
        "import numpy as np\n",
        "from decimal import Decimal\n",
        "import scipy.stats as si\n",
        "\n",
        "\"\"\"\n",
        "Stores common attributes of a stock option\n",
        "\"\"\"\n",
        "\n",
        "class StockOption(object):\n",
        "  def __init__(\n",
        "    self, S0, K, r=0.05, T=1, N=2, pu=0.5, pd=0.5,\n",
        "    div=0, sigma=0.3, is_put=False, is_am=False):\n",
        "\n",
        "    \"\"\"\n",
        "\n",
        "    Initialize the stock option base class.\n",
        "    Defaults to European call unless specified.\n",
        "\n",
        "    :param S0: initial stock price\n",
        "    :param K: strike price\n",
        "    :param r: risk-free interest rate\n",
        "    :param T: time to maturity\n",
        "    :param N: number of time steps\n",
        "    :param pu: probability at up state\n",
        "    :param pd: probability at down state\n",
        "    :param div: Dividend yield\n",
        "    :param is_put: True for a put option,\n",
        "    False for a call option\n",
        "    :param is_am: True for an American option,\n",
        "    False for a European option\n",
        "\n",
        "    \"\"\"\n",
        "    self.S0 = S0\n",
        "    self.K = K\n",
        "    self.r = r\n",
        "    self.T = T\n",
        "    self.N = max(1, N)\n",
        "    self.STs = [] # Declare the stock prices tree\n",
        "\n",
        "\n",
        "\n",
        "    \"\"\" Optional parameters used by derived classes \"\"\"\n",
        "    self.pu, self.pd = pu, pd\n",
        "    self.div = div\n",
        "    self.sigma = sigma\n",
        "    self.is_call = not is_put\n",
        "    self.is_european = not is_am\n",
        "\n",
        "  @property\n",
        "  def dt(self):\n",
        "    \"\"\" Single time step, in years \"\"\"\n",
        "    return self.T/float(self.N)\n",
        "\n",
        "  @property\n",
        "  def df(self):\n",
        "    \"\"\" The discount factor \"\"\"\n",
        "    return math.exp(-(self.r-self.div)*self.dt)\n",
        "\n",
        "\n",
        "\n",
        "class BlackScholesModel:\n",
        "    def __init__(self, S, K, T, r, sigma):\n",
        "      self.S = S # Underlying asset price\n",
        "      self.K = K # Option strike price\n",
        "      self.T = T # Time to expiration in years\n",
        "      self.r = r # Risk-free interest rate\n",
        "      self.sigma = sigma # Volatility of the underlying asset\n",
        "\n",
        "\n",
        "\n",
        "    def d1(self):\n",
        "      return (np.log(self.S / self.K) + (self.r + 0.5 * self.sigma**2) * self.T) / (\n",
        "      self.sigma * np.sqrt(self.T))\n",
        "\n",
        "    def d2(self):\n",
        "      return self.d1() - self.sigma * np.sqrt(self.T)\n",
        "\n",
        "    def call_option_price(self):\n",
        "      return self.S * si.norm.cdf(self.d1(), 0.0, 1.0) - self.K * np.exp(\n",
        "      -self.r * self.T) * si.norm.cdf(self.d2(), 0.0, 1.0)\n",
        "\n",
        "    def put_option_price(self):\n",
        "      return self.K * np.exp(-self.r * self.T) * si.norm.cdf(\n",
        "      -self.d2(), 0.0, 1.0) - self.S * si.norm.cdf(-self.d1(), 0.0, 1.0)\n",
        "\n",
        "\n",
        "\n",
        "\"\"\"\n",
        "\n",
        "Price a European option by the binomial tree model\n",
        "\n",
        "\"\"\"\n",
        "\n",
        "class BinomialEuropeanOption(StockOption):\n",
        "  def setup_parameters(self):\n",
        "    # Required calculations for the model\n",
        "    self.M = self.N+1 # Number of terminal nodes of tree\n",
        "    self.u = 1+self.pu # Expected value in the up stat\n",
        "    self.d = 1-self.pd # Expected value in the down state\n",
        "    self.qu = (math.exp((self.r-self.div)*self.dt)-self.d)/(self.u-self.d)\n",
        "    self.qd = 1-self.qu\n",
        "\n",
        "  def init_stock_price_tree(self):\n",
        "    # Initialize terminal price nodes to zeros\n",
        "    self.STs = np.zeros(self.M)\n",
        "    # Calculate expected stock prices for each node\n",
        "    for i in range(self.M):\n",
        "      self.STs[i] = self.S0 * (self.u**(self.N-i)) * (self.d**i)\n",
        "\n",
        "\n",
        "\n",
        "  def init_payoffs_tree(self):\n",
        "    \"\"\"\n",
        "    Returns the payoffs when the option\n",
        "    expires at terminal nodes\n",
        "    \"\"\"\n",
        "    if self.is_call:\n",
        "      return np.maximum(0, self.STs-self.K)\n",
        "    else:\n",
        "      return np.maximum(0, self.K-self.STs)\n",
        "\n",
        "\n",
        "\n",
        "  def traverse_tree(self, payoffs):\n",
        "    \"\"\"\n",
        "    Starting from the time the option expires, traverse\n",
        "    backwards and calculate discounted payoffs at each node\n",
        "    \"\"\"\n",
        "    for i in range(self.N):\n",
        "      payoffs = (payoffs[:-1]*self.qu +\n",
        "      payoffs[1:]*self.qd)*self.df\n",
        "    return payoffs\n",
        "\n",
        "\n",
        "\n",
        "  def begin_tree_traversal(self):\n",
        "    payoffs = self.init_payoffs_tree()\n",
        "    return self.traverse_tree(payoffs)\n",
        "\n",
        "  def price(self):\n",
        "    \"\"\" Entry point of the pricing implementation \"\"\"\n",
        "    self.setup_parameters()\n",
        "    self.init_stock_price_tree()\n",
        "    payoffs = self.begin_tree_traversal()\n",
        "\n",
        "    # Option value converges to first node\n",
        "    return payoffs[0]\n",
        "\n",
        "\n",
        "class Strategy:\n",
        "  def __init__(self, option1, option2, option3):\n",
        "    self.option1 = option1\n",
        "    self.option2 = option2\n",
        "    self.option3 = option3\n",
        "\n",
        "  def bull_spread(self):\n",
        "    bsm1 = BlackScholesModel(self.option1.S0,  self.option1.K,self.option1.T,self.option1.r, self.option1.sigma)\n",
        "    bsm2 = BlackScholesModel(self.option2.S0,  self.option2.K,self.option2.T,self.option2.r, self.option1.sigma)\n",
        "    if self.option1.is_call and self.option2.is_call:\n",
        "      if self.option1.K < self.option2.K:\n",
        "        return {\"Portfolio\" :[self.option1 , self.option2], \"Value\" : -bsm1.call_option_price()+bsm2.call_option_price() , \"Nature\" : \"BullSpread\",\"Strikes\": [self.option1.K,self.option2.K]}\n",
        "      else:\n",
        "        print(\"Invalid combination for bull spread\")\n",
        "    elif self.option.is_call==False and self.option2.is_call==False :\n",
        "      if self.option1.K < self.option2.K :\n",
        "        return {\"Portfolio\" :[self.option1 , self.option2], \"Value\" : -bsm1.put_option_price()+bsm2.put_option_price() , \"Nature\" : \"BullSpread\", \"Strikes\": [self.option1.K,self.option2.K]}\n",
        "      else :\n",
        "        print('Invalid combination for bull spread')\n",
        "\n",
        "  def bear_spread(self):\n",
        "    bsm1 = BlackScholesModel(self.option1.S0,  self.option1.K,self.option1.T,self.option1.r, self.option1.sigma)\n",
        "    bsm2 = BlackScholesModel(self.option2.S0,  self.option2.K,self.option2.T,self.option2.r, self.option1.sigma)\n",
        "    if self.option1.is_call==False and self.option2.is_call==False:\n",
        "      if self.option1.K < self.option2.K:\n",
        "        return {\"Portfolio\":[self.option1,self.option2] , \"Value\": bsm1.put_option_price()-bsm2.put_option_price() , \"Nature\":\"BearSpread\",\"Strikes\": [self.option1.K,self.option2.K]}\n",
        "      else:\n",
        "        print(\"Invalid combination for bear spread\")\n",
        "    elif self.option1.is_call and self.option2.is_call:\n",
        "      if self.option1.K < self.option2.K :\n",
        "        return {\"Portfolio\":[self.option1,self.option2] , \"Value\": bsm1.call_option_price()-bsm2.call_option_price() , \"Nature\":\"BearSpread\",\"Strikes\": [self.option1.K,self.option2.K]}\n",
        "      else :\n",
        "        print(\"Invalid combination for bear spread\")\n",
        "\n",
        "\n",
        "  def butterfly(self):\n",
        "    if self.option1.is_call and self.option2.is_call and self.option3.is_call:\n",
        "      bsm1 = BlackScholesModel(self.option1.S0,  self.option1.K,self.option1.T,self.option1.r, self.option1.sigma)\n",
        "      bsm2 = BlackScholesModel(self.option2.S0,  self.option2.K,self.option2.T,self.option2.r, self.option2.sigma)\n",
        "      bsm3 =  BlackScholesModel(self.option3.S0,  self.option3.K,self.option3.T,self.option2.r, self.option3.sigma)\n",
        "      if self.option1.K < self.option2.K and self.option2.K < self.option3.K:\n",
        "        return {\"Portfolio\":[self.option1,self.option2, self.option2, self.option3],\"Value\" : 2*bsm2.call_option_price()-bsm1.call_option_price()-bsm3.call_option_price(), \"Nature\":\"Butterfly\",\"Strikes\": [self.option1.K,self.option2.K,self.option3.K]}\n",
        "      else:\n",
        "        print(\"Invalid combination for butterfly\")\n",
        "    else:\n",
        "      print(\"Invalid combination for butterfly\")\n",
        "\n",
        "\n",
        "\n",
        "\n",
        "\n",
        "opt1 = StockOption(80,85)\n",
        "opt2 = StockOption(80, 95)\n",
        "opt3 = StockOption(80, 105)\n",
        "\n",
        "\n",
        "\n",
        "strat = Strategy(opt1,opt2,opt3)\n",
        "\n",
        "butterfly = strat.butterfly()\n",
        "bear = strat.bear_spread()\n",
        "bull = strat.bull_spread()\n",
        "\n",
        "\n",
        "\n",
        "opt4 = StockOption(80, 85)\n",
        "price = BlackScholesModel(80,85, 1, 0.05, 0.3).call_option_price()"
      ]
    },
    {
      "cell_type": "code",
      "source": [
        "pip install hmmlearn"
      ],
      "metadata": {
        "colab": {
          "base_uri": "https://localhost:8080/"
        },
        "id": "i9wNubhwMfpA",
        "outputId": "c6a24637-fb79-469c-ecdc-a41dfc33cb05"
      },
      "execution_count": 3,
      "outputs": [
        {
          "output_type": "stream",
          "name": "stdout",
          "text": [
            "Collecting hmmlearn\n",
            "  Downloading hmmlearn-0.3.2-cp310-cp310-manylinux_2_17_x86_64.manylinux2014_x86_64.whl.metadata (2.9 kB)\n",
            "Requirement already satisfied: numpy>=1.10 in /usr/local/lib/python3.10/dist-packages (from hmmlearn) (1.26.4)\n",
            "Requirement already satisfied: scikit-learn!=0.22.0,>=0.16 in /usr/local/lib/python3.10/dist-packages (from hmmlearn) (1.5.2)\n",
            "Requirement already satisfied: scipy>=0.19 in /usr/local/lib/python3.10/dist-packages (from hmmlearn) (1.13.1)\n",
            "Requirement already satisfied: joblib>=1.2.0 in /usr/local/lib/python3.10/dist-packages (from scikit-learn!=0.22.0,>=0.16->hmmlearn) (1.4.2)\n",
            "Requirement already satisfied: threadpoolctl>=3.1.0 in /usr/local/lib/python3.10/dist-packages (from scikit-learn!=0.22.0,>=0.16->hmmlearn) (3.5.0)\n",
            "Downloading hmmlearn-0.3.2-cp310-cp310-manylinux_2_17_x86_64.manylinux2014_x86_64.whl (161 kB)\n",
            "\u001b[2K   \u001b[90m━━━━━━━━━━━━━━━━━━━━━━━━━━━━━━━━━━━━━━━━\u001b[0m \u001b[32m161.1/161.1 kB\u001b[0m \u001b[31m2.9 MB/s\u001b[0m eta \u001b[36m0:00:00\u001b[0m\n",
            "\u001b[?25hInstalling collected packages: hmmlearn\n",
            "Successfully installed hmmlearn-0.3.2\n"
          ]
        }
      ]
    },
    {
      "cell_type": "code",
      "source": [
        "import numpy as np\n",
        "import pandas as pd\n",
        "import yfinance as yf\n",
        "from hmmlearn import hmm"
      ],
      "metadata": {
        "id": "uHAxxkIyNlM5"
      },
      "execution_count": 4,
      "outputs": []
    },
    {
      "cell_type": "code",
      "source": [
        "data = yf.download(\"^GSPC\")\n",
        "returns = np.log(data.Close / data.Close.shift(1))\n",
        "range = (data.High - data.Low)\n",
        "features = pd.concat([returns, range], axis=1).dropna()\n",
        "features.columns = [\"returns\", \"range\"]\n",
        "\n",
        "print(features.head())"
      ],
      "metadata": {
        "colab": {
          "base_uri": "https://localhost:8080/"
        },
        "id": "J8gYTvqJNtsD",
        "outputId": "ca481ed2-cd70-4c2b-833b-75db56051cf6"
      },
      "execution_count": 28,
      "outputs": [
        {
          "output_type": "stream",
          "name": "stderr",
          "text": [
            "\r[*********************100%***********************]  1 of 1 completed"
          ]
        },
        {
          "output_type": "stream",
          "name": "stdout",
          "text": [
            "             returns  range\n",
            "Date                       \n",
            "1928-01-03  0.005647    0.0\n",
            "1928-01-04 -0.002255    0.0\n",
            "1928-01-05 -0.009640    0.0\n",
            "1928-01-06  0.006248    0.0\n",
            "1928-01-09 -0.009101    0.0\n"
          ]
        },
        {
          "output_type": "stream",
          "name": "stderr",
          "text": [
            "\n"
          ]
        }
      ]
    },
    {
      "cell_type": "code",
      "source": [
        "model = hmm.GaussianHMM(\n",
        "    n_components=3,\n",
        "    covariance_type=\"diag\",\n",
        "    n_iter=1000,\n",
        ")\n",
        "model.fit(features)"
      ],
      "metadata": {
        "colab": {
          "base_uri": "https://localhost:8080/",
          "height": 80
        },
        "id": "6bpas593Nv_e",
        "outputId": "a18011d8-737b-4fae-f03b-ec78cf973caf"
      },
      "execution_count": 29,
      "outputs": [
        {
          "output_type": "execute_result",
          "data": {
            "text/plain": [
              "GaussianHMM(n_components=3, n_iter=1000)"
            ],
            "text/html": [
              "<style>#sk-container-id-4 {\n",
              "  /* Definition of color scheme common for light and dark mode */\n",
              "  --sklearn-color-text: black;\n",
              "  --sklearn-color-line: gray;\n",
              "  /* Definition of color scheme for unfitted estimators */\n",
              "  --sklearn-color-unfitted-level-0: #fff5e6;\n",
              "  --sklearn-color-unfitted-level-1: #f6e4d2;\n",
              "  --sklearn-color-unfitted-level-2: #ffe0b3;\n",
              "  --sklearn-color-unfitted-level-3: chocolate;\n",
              "  /* Definition of color scheme for fitted estimators */\n",
              "  --sklearn-color-fitted-level-0: #f0f8ff;\n",
              "  --sklearn-color-fitted-level-1: #d4ebff;\n",
              "  --sklearn-color-fitted-level-2: #b3dbfd;\n",
              "  --sklearn-color-fitted-level-3: cornflowerblue;\n",
              "\n",
              "  /* Specific color for light theme */\n",
              "  --sklearn-color-text-on-default-background: var(--sg-text-color, var(--theme-code-foreground, var(--jp-content-font-color1, black)));\n",
              "  --sklearn-color-background: var(--sg-background-color, var(--theme-background, var(--jp-layout-color0, white)));\n",
              "  --sklearn-color-border-box: var(--sg-text-color, var(--theme-code-foreground, var(--jp-content-font-color1, black)));\n",
              "  --sklearn-color-icon: #696969;\n",
              "\n",
              "  @media (prefers-color-scheme: dark) {\n",
              "    /* Redefinition of color scheme for dark theme */\n",
              "    --sklearn-color-text-on-default-background: var(--sg-text-color, var(--theme-code-foreground, var(--jp-content-font-color1, white)));\n",
              "    --sklearn-color-background: var(--sg-background-color, var(--theme-background, var(--jp-layout-color0, #111)));\n",
              "    --sklearn-color-border-box: var(--sg-text-color, var(--theme-code-foreground, var(--jp-content-font-color1, white)));\n",
              "    --sklearn-color-icon: #878787;\n",
              "  }\n",
              "}\n",
              "\n",
              "#sk-container-id-4 {\n",
              "  color: var(--sklearn-color-text);\n",
              "}\n",
              "\n",
              "#sk-container-id-4 pre {\n",
              "  padding: 0;\n",
              "}\n",
              "\n",
              "#sk-container-id-4 input.sk-hidden--visually {\n",
              "  border: 0;\n",
              "  clip: rect(1px 1px 1px 1px);\n",
              "  clip: rect(1px, 1px, 1px, 1px);\n",
              "  height: 1px;\n",
              "  margin: -1px;\n",
              "  overflow: hidden;\n",
              "  padding: 0;\n",
              "  position: absolute;\n",
              "  width: 1px;\n",
              "}\n",
              "\n",
              "#sk-container-id-4 div.sk-dashed-wrapped {\n",
              "  border: 1px dashed var(--sklearn-color-line);\n",
              "  margin: 0 0.4em 0.5em 0.4em;\n",
              "  box-sizing: border-box;\n",
              "  padding-bottom: 0.4em;\n",
              "  background-color: var(--sklearn-color-background);\n",
              "}\n",
              "\n",
              "#sk-container-id-4 div.sk-container {\n",
              "  /* jupyter's `normalize.less` sets `[hidden] { display: none; }`\n",
              "     but bootstrap.min.css set `[hidden] { display: none !important; }`\n",
              "     so we also need the `!important` here to be able to override the\n",
              "     default hidden behavior on the sphinx rendered scikit-learn.org.\n",
              "     See: https://github.com/scikit-learn/scikit-learn/issues/21755 */\n",
              "  display: inline-block !important;\n",
              "  position: relative;\n",
              "}\n",
              "\n",
              "#sk-container-id-4 div.sk-text-repr-fallback {\n",
              "  display: none;\n",
              "}\n",
              "\n",
              "div.sk-parallel-item,\n",
              "div.sk-serial,\n",
              "div.sk-item {\n",
              "  /* draw centered vertical line to link estimators */\n",
              "  background-image: linear-gradient(var(--sklearn-color-text-on-default-background), var(--sklearn-color-text-on-default-background));\n",
              "  background-size: 2px 100%;\n",
              "  background-repeat: no-repeat;\n",
              "  background-position: center center;\n",
              "}\n",
              "\n",
              "/* Parallel-specific style estimator block */\n",
              "\n",
              "#sk-container-id-4 div.sk-parallel-item::after {\n",
              "  content: \"\";\n",
              "  width: 100%;\n",
              "  border-bottom: 2px solid var(--sklearn-color-text-on-default-background);\n",
              "  flex-grow: 1;\n",
              "}\n",
              "\n",
              "#sk-container-id-4 div.sk-parallel {\n",
              "  display: flex;\n",
              "  align-items: stretch;\n",
              "  justify-content: center;\n",
              "  background-color: var(--sklearn-color-background);\n",
              "  position: relative;\n",
              "}\n",
              "\n",
              "#sk-container-id-4 div.sk-parallel-item {\n",
              "  display: flex;\n",
              "  flex-direction: column;\n",
              "}\n",
              "\n",
              "#sk-container-id-4 div.sk-parallel-item:first-child::after {\n",
              "  align-self: flex-end;\n",
              "  width: 50%;\n",
              "}\n",
              "\n",
              "#sk-container-id-4 div.sk-parallel-item:last-child::after {\n",
              "  align-self: flex-start;\n",
              "  width: 50%;\n",
              "}\n",
              "\n",
              "#sk-container-id-4 div.sk-parallel-item:only-child::after {\n",
              "  width: 0;\n",
              "}\n",
              "\n",
              "/* Serial-specific style estimator block */\n",
              "\n",
              "#sk-container-id-4 div.sk-serial {\n",
              "  display: flex;\n",
              "  flex-direction: column;\n",
              "  align-items: center;\n",
              "  background-color: var(--sklearn-color-background);\n",
              "  padding-right: 1em;\n",
              "  padding-left: 1em;\n",
              "}\n",
              "\n",
              "\n",
              "/* Toggleable style: style used for estimator/Pipeline/ColumnTransformer box that is\n",
              "clickable and can be expanded/collapsed.\n",
              "- Pipeline and ColumnTransformer use this feature and define the default style\n",
              "- Estimators will overwrite some part of the style using the `sk-estimator` class\n",
              "*/\n",
              "\n",
              "/* Pipeline and ColumnTransformer style (default) */\n",
              "\n",
              "#sk-container-id-4 div.sk-toggleable {\n",
              "  /* Default theme specific background. It is overwritten whether we have a\n",
              "  specific estimator or a Pipeline/ColumnTransformer */\n",
              "  background-color: var(--sklearn-color-background);\n",
              "}\n",
              "\n",
              "/* Toggleable label */\n",
              "#sk-container-id-4 label.sk-toggleable__label {\n",
              "  cursor: pointer;\n",
              "  display: block;\n",
              "  width: 100%;\n",
              "  margin-bottom: 0;\n",
              "  padding: 0.5em;\n",
              "  box-sizing: border-box;\n",
              "  text-align: center;\n",
              "}\n",
              "\n",
              "#sk-container-id-4 label.sk-toggleable__label-arrow:before {\n",
              "  /* Arrow on the left of the label */\n",
              "  content: \"▸\";\n",
              "  float: left;\n",
              "  margin-right: 0.25em;\n",
              "  color: var(--sklearn-color-icon);\n",
              "}\n",
              "\n",
              "#sk-container-id-4 label.sk-toggleable__label-arrow:hover:before {\n",
              "  color: var(--sklearn-color-text);\n",
              "}\n",
              "\n",
              "/* Toggleable content - dropdown */\n",
              "\n",
              "#sk-container-id-4 div.sk-toggleable__content {\n",
              "  max-height: 0;\n",
              "  max-width: 0;\n",
              "  overflow: hidden;\n",
              "  text-align: left;\n",
              "  /* unfitted */\n",
              "  background-color: var(--sklearn-color-unfitted-level-0);\n",
              "}\n",
              "\n",
              "#sk-container-id-4 div.sk-toggleable__content.fitted {\n",
              "  /* fitted */\n",
              "  background-color: var(--sklearn-color-fitted-level-0);\n",
              "}\n",
              "\n",
              "#sk-container-id-4 div.sk-toggleable__content pre {\n",
              "  margin: 0.2em;\n",
              "  border-radius: 0.25em;\n",
              "  color: var(--sklearn-color-text);\n",
              "  /* unfitted */\n",
              "  background-color: var(--sklearn-color-unfitted-level-0);\n",
              "}\n",
              "\n",
              "#sk-container-id-4 div.sk-toggleable__content.fitted pre {\n",
              "  /* unfitted */\n",
              "  background-color: var(--sklearn-color-fitted-level-0);\n",
              "}\n",
              "\n",
              "#sk-container-id-4 input.sk-toggleable__control:checked~div.sk-toggleable__content {\n",
              "  /* Expand drop-down */\n",
              "  max-height: 200px;\n",
              "  max-width: 100%;\n",
              "  overflow: auto;\n",
              "}\n",
              "\n",
              "#sk-container-id-4 input.sk-toggleable__control:checked~label.sk-toggleable__label-arrow:before {\n",
              "  content: \"▾\";\n",
              "}\n",
              "\n",
              "/* Pipeline/ColumnTransformer-specific style */\n",
              "\n",
              "#sk-container-id-4 div.sk-label input.sk-toggleable__control:checked~label.sk-toggleable__label {\n",
              "  color: var(--sklearn-color-text);\n",
              "  background-color: var(--sklearn-color-unfitted-level-2);\n",
              "}\n",
              "\n",
              "#sk-container-id-4 div.sk-label.fitted input.sk-toggleable__control:checked~label.sk-toggleable__label {\n",
              "  background-color: var(--sklearn-color-fitted-level-2);\n",
              "}\n",
              "\n",
              "/* Estimator-specific style */\n",
              "\n",
              "/* Colorize estimator box */\n",
              "#sk-container-id-4 div.sk-estimator input.sk-toggleable__control:checked~label.sk-toggleable__label {\n",
              "  /* unfitted */\n",
              "  background-color: var(--sklearn-color-unfitted-level-2);\n",
              "}\n",
              "\n",
              "#sk-container-id-4 div.sk-estimator.fitted input.sk-toggleable__control:checked~label.sk-toggleable__label {\n",
              "  /* fitted */\n",
              "  background-color: var(--sklearn-color-fitted-level-2);\n",
              "}\n",
              "\n",
              "#sk-container-id-4 div.sk-label label.sk-toggleable__label,\n",
              "#sk-container-id-4 div.sk-label label {\n",
              "  /* The background is the default theme color */\n",
              "  color: var(--sklearn-color-text-on-default-background);\n",
              "}\n",
              "\n",
              "/* On hover, darken the color of the background */\n",
              "#sk-container-id-4 div.sk-label:hover label.sk-toggleable__label {\n",
              "  color: var(--sklearn-color-text);\n",
              "  background-color: var(--sklearn-color-unfitted-level-2);\n",
              "}\n",
              "\n",
              "/* Label box, darken color on hover, fitted */\n",
              "#sk-container-id-4 div.sk-label.fitted:hover label.sk-toggleable__label.fitted {\n",
              "  color: var(--sklearn-color-text);\n",
              "  background-color: var(--sklearn-color-fitted-level-2);\n",
              "}\n",
              "\n",
              "/* Estimator label */\n",
              "\n",
              "#sk-container-id-4 div.sk-label label {\n",
              "  font-family: monospace;\n",
              "  font-weight: bold;\n",
              "  display: inline-block;\n",
              "  line-height: 1.2em;\n",
              "}\n",
              "\n",
              "#sk-container-id-4 div.sk-label-container {\n",
              "  text-align: center;\n",
              "}\n",
              "\n",
              "/* Estimator-specific */\n",
              "#sk-container-id-4 div.sk-estimator {\n",
              "  font-family: monospace;\n",
              "  border: 1px dotted var(--sklearn-color-border-box);\n",
              "  border-radius: 0.25em;\n",
              "  box-sizing: border-box;\n",
              "  margin-bottom: 0.5em;\n",
              "  /* unfitted */\n",
              "  background-color: var(--sklearn-color-unfitted-level-0);\n",
              "}\n",
              "\n",
              "#sk-container-id-4 div.sk-estimator.fitted {\n",
              "  /* fitted */\n",
              "  background-color: var(--sklearn-color-fitted-level-0);\n",
              "}\n",
              "\n",
              "/* on hover */\n",
              "#sk-container-id-4 div.sk-estimator:hover {\n",
              "  /* unfitted */\n",
              "  background-color: var(--sklearn-color-unfitted-level-2);\n",
              "}\n",
              "\n",
              "#sk-container-id-4 div.sk-estimator.fitted:hover {\n",
              "  /* fitted */\n",
              "  background-color: var(--sklearn-color-fitted-level-2);\n",
              "}\n",
              "\n",
              "/* Specification for estimator info (e.g. \"i\" and \"?\") */\n",
              "\n",
              "/* Common style for \"i\" and \"?\" */\n",
              "\n",
              ".sk-estimator-doc-link,\n",
              "a:link.sk-estimator-doc-link,\n",
              "a:visited.sk-estimator-doc-link {\n",
              "  float: right;\n",
              "  font-size: smaller;\n",
              "  line-height: 1em;\n",
              "  font-family: monospace;\n",
              "  background-color: var(--sklearn-color-background);\n",
              "  border-radius: 1em;\n",
              "  height: 1em;\n",
              "  width: 1em;\n",
              "  text-decoration: none !important;\n",
              "  margin-left: 1ex;\n",
              "  /* unfitted */\n",
              "  border: var(--sklearn-color-unfitted-level-1) 1pt solid;\n",
              "  color: var(--sklearn-color-unfitted-level-1);\n",
              "}\n",
              "\n",
              ".sk-estimator-doc-link.fitted,\n",
              "a:link.sk-estimator-doc-link.fitted,\n",
              "a:visited.sk-estimator-doc-link.fitted {\n",
              "  /* fitted */\n",
              "  border: var(--sklearn-color-fitted-level-1) 1pt solid;\n",
              "  color: var(--sklearn-color-fitted-level-1);\n",
              "}\n",
              "\n",
              "/* On hover */\n",
              "div.sk-estimator:hover .sk-estimator-doc-link:hover,\n",
              ".sk-estimator-doc-link:hover,\n",
              "div.sk-label-container:hover .sk-estimator-doc-link:hover,\n",
              ".sk-estimator-doc-link:hover {\n",
              "  /* unfitted */\n",
              "  background-color: var(--sklearn-color-unfitted-level-3);\n",
              "  color: var(--sklearn-color-background);\n",
              "  text-decoration: none;\n",
              "}\n",
              "\n",
              "div.sk-estimator.fitted:hover .sk-estimator-doc-link.fitted:hover,\n",
              ".sk-estimator-doc-link.fitted:hover,\n",
              "div.sk-label-container:hover .sk-estimator-doc-link.fitted:hover,\n",
              ".sk-estimator-doc-link.fitted:hover {\n",
              "  /* fitted */\n",
              "  background-color: var(--sklearn-color-fitted-level-3);\n",
              "  color: var(--sklearn-color-background);\n",
              "  text-decoration: none;\n",
              "}\n",
              "\n",
              "/* Span, style for the box shown on hovering the info icon */\n",
              ".sk-estimator-doc-link span {\n",
              "  display: none;\n",
              "  z-index: 9999;\n",
              "  position: relative;\n",
              "  font-weight: normal;\n",
              "  right: .2ex;\n",
              "  padding: .5ex;\n",
              "  margin: .5ex;\n",
              "  width: min-content;\n",
              "  min-width: 20ex;\n",
              "  max-width: 50ex;\n",
              "  color: var(--sklearn-color-text);\n",
              "  box-shadow: 2pt 2pt 4pt #999;\n",
              "  /* unfitted */\n",
              "  background: var(--sklearn-color-unfitted-level-0);\n",
              "  border: .5pt solid var(--sklearn-color-unfitted-level-3);\n",
              "}\n",
              "\n",
              ".sk-estimator-doc-link.fitted span {\n",
              "  /* fitted */\n",
              "  background: var(--sklearn-color-fitted-level-0);\n",
              "  border: var(--sklearn-color-fitted-level-3);\n",
              "}\n",
              "\n",
              ".sk-estimator-doc-link:hover span {\n",
              "  display: block;\n",
              "}\n",
              "\n",
              "/* \"?\"-specific style due to the `<a>` HTML tag */\n",
              "\n",
              "#sk-container-id-4 a.estimator_doc_link {\n",
              "  float: right;\n",
              "  font-size: 1rem;\n",
              "  line-height: 1em;\n",
              "  font-family: monospace;\n",
              "  background-color: var(--sklearn-color-background);\n",
              "  border-radius: 1rem;\n",
              "  height: 1rem;\n",
              "  width: 1rem;\n",
              "  text-decoration: none;\n",
              "  /* unfitted */\n",
              "  color: var(--sklearn-color-unfitted-level-1);\n",
              "  border: var(--sklearn-color-unfitted-level-1) 1pt solid;\n",
              "}\n",
              "\n",
              "#sk-container-id-4 a.estimator_doc_link.fitted {\n",
              "  /* fitted */\n",
              "  border: var(--sklearn-color-fitted-level-1) 1pt solid;\n",
              "  color: var(--sklearn-color-fitted-level-1);\n",
              "}\n",
              "\n",
              "/* On hover */\n",
              "#sk-container-id-4 a.estimator_doc_link:hover {\n",
              "  /* unfitted */\n",
              "  background-color: var(--sklearn-color-unfitted-level-3);\n",
              "  color: var(--sklearn-color-background);\n",
              "  text-decoration: none;\n",
              "}\n",
              "\n",
              "#sk-container-id-4 a.estimator_doc_link.fitted:hover {\n",
              "  /* fitted */\n",
              "  background-color: var(--sklearn-color-fitted-level-3);\n",
              "}\n",
              "</style><div id=\"sk-container-id-4\" class=\"sk-top-container\"><div class=\"sk-text-repr-fallback\"><pre>GaussianHMM(n_components=3, n_iter=1000)</pre><b>In a Jupyter environment, please rerun this cell to show the HTML representation or trust the notebook. <br />On GitHub, the HTML representation is unable to render, please try loading this page with nbviewer.org.</b></div><div class=\"sk-container\" hidden><div class=\"sk-item\"><div class=\"sk-estimator fitted sk-toggleable\"><input class=\"sk-toggleable__control sk-hidden--visually\" id=\"sk-estimator-id-4\" type=\"checkbox\" checked><label for=\"sk-estimator-id-4\" class=\"sk-toggleable__label fitted sk-toggleable__label-arrow fitted\">&nbsp;GaussianHMM<span class=\"sk-estimator-doc-link fitted\">i<span>Fitted</span></span></label><div class=\"sk-toggleable__content fitted\"><pre>GaussianHMM(n_components=3, n_iter=1000)</pre></div> </div></div></div></div>"
            ]
          },
          "metadata": {},
          "execution_count": 29
        }
      ]
    },
    {
      "cell_type": "code",
      "source": [
        "states = pd.Series(model.predict(features), index=data.index[1:])\n",
        "states.name = \"state\"\n",
        "states.hist()"
      ],
      "metadata": {
        "colab": {
          "base_uri": "https://localhost:8080/",
          "height": 447
        },
        "id": "X65sXPv0Nyaw",
        "outputId": "b82b0a2e-7333-43bb-8a14-b398d2d25fe5"
      },
      "execution_count": 30,
      "outputs": [
        {
          "output_type": "execute_result",
          "data": {
            "text/plain": [
              "<Axes: >"
            ]
          },
          "metadata": {},
          "execution_count": 30
        },
        {
          "output_type": "display_data",
          "data": {
            "text/plain": [
              "<Figure size 640x480 with 1 Axes>"
            ],
            "image/png": "[encoded data removed]"
          },
          "metadata": {}
        }
      ]
    },
    {
      "cell_type": "code",
      "source": [
        "color_map = {\n",
        "    0.0: \"green\",\n",
        "    1.0: \"orange\",\n",
        "    2.0: \"red\"\n",
        "}\n",
        "(\n",
        "    pd.concat([data.Close, states], axis=1)\n",
        "    .dropna()\n",
        "    .set_index(\"state\", append=True)\n",
        "    .Close\n",
        "    .unstack(\"state\")\n",
        "    .plot(color=color_map, figsize=[8, 6])\n",
        ")"
      ],
      "metadata": {
        "colab": {
          "base_uri": "https://localhost:8080/",
          "height": 521
        },
        "id": "3OVJsw_WN0qk",
        "outputId": "818db881-3ba1-43d5-f610-a734d0c58b85"
      },
      "execution_count": 31,
      "outputs": [
        {
          "output_type": "execute_result",
          "data": {
            "text/plain": [
              "<Axes: xlabel='Date'>"
            ]
          },
          "metadata": {},
          "execution_count": 31
        },
        {
          "output_type": "display_data",
          "data": {
            "text/plain": [
              "<Figure size 800x600 with 1 Axes>"
            ],
            "image/png": "[encoded data removed]"
          },
          "metadata": {}
        }
      ]
    },
    {
      "cell_type": "code",
      "source": [
        "from datetime import datetime\n",
        "\n",
        "def increment_month(date_input):\n",
        "    \"\"\"\n",
        "    Incrémente le mois d'une date. Si le mois est 12, passe à l'année suivante.\n",
        "\n",
        "    Args:\n",
        "        date_input (datetime): La date à modifier.\n",
        "\n",
        "    Returns:\n",
        "        datetime: La nouvelle date avec le mois (ou l'année) modifié.\n",
        "    \"\"\"\n",
        "    year = date_input.year\n",
        "    month = date_input.month\n",
        "\n",
        "    if month < 12:\n",
        "        new_month = month + 1\n",
        "        new_date = datetime(year, new_month, date_input.day)\n",
        "    else:\n",
        "        new_year = year + 1\n",
        "        new_date = datetime(new_year, 1, date_input.day)\n",
        "\n",
        "    return new_date\n",
        "\n",
        "# Exemple d'utilisation\n",
        "date = datetime(1999, 12, 15)\n",
        "new_date = increment_month(date)\n",
        "print(\"Nouvelle date :\", new_date)\n",
        "\n",
        "def decrement_month(date_input):\n",
        "    \"\"\"\n",
        "    Incrémente le mois d'une date. Si le mois est 12, passe à l'année suivante.\n",
        "\n",
        "    Args:\n",
        "        date_input (datetime): La date à modifier.\n",
        "\n",
        "    Returns:\n",
        "        datetime: La nouvelle date avec le mois (ou l'année) modifié.\n",
        "    \"\"\"\n",
        "    year = date_input.year\n",
        "    month = date_input.month\n",
        "\n",
        "    if month > 1:\n",
        "        new_month = month - 1\n",
        "        new_date = datetime(year, new_month, date_input.day)\n",
        "    else:\n",
        "        new_year = year - 1\n",
        "        new_date = datetime(new_year, 12, date_input.day)\n",
        "\n",
        "    return new_date"
      ],
      "metadata": {
        "colab": {
          "base_uri": "https://localhost:8080/"
        },
        "id": "MpJdOLSGiSF7",
        "outputId": "be1da158-c36c-43e0-8f0d-7a0e15fa635c"
      },
      "execution_count": 12,
      "outputs": [
        {
          "output_type": "stream",
          "name": "stdout",
          "text": [
            "Nouvelle date : 2000-01-15 00:00:00\n"
          ]
        }
      ]
    },
    {
      "cell_type": "code",
      "source": [
        "def calculate_historical_volatility(stock_data, window=252):\n",
        "    log_returns = np.log(stock_data['Close'] / stock_data['Close'].shift(1))\n",
        "    volatility = np.sqrt(window) * log_returns.std()\n",
        "    return volatility\n",
        "\n",
        "jpm_volatility = calculate_historical_volatility(data)\n",
        "print(f\"Historical Volatility: {jpm_volatility}\")"
      ],
      "metadata": {
        "colab": {
          "base_uri": "https://localhost:8080/"
        },
        "id": "KCgDO-QbRkvg",
        "outputId": "462e2f77-1030-48de-c1ae-d0811e55967d"
      },
      "execution_count": 13,
      "outputs": [
        {
          "output_type": "stream",
          "name": "stdout",
          "text": [
            "Historical Volatility: 0.18986510561225725\n"
          ]
        }
      ]
    },
    {
      "cell_type": "code",
      "source": [
        "def strategy(start_date,end_date=datetime.today()):\n",
        "  date = start_date\n",
        "  portfolio = []\n",
        "  gains = 0\n",
        "  Index = 1000\n",
        "  Index_value = []\n",
        "  dates = []\n",
        "  Gains =[]\n",
        "\n",
        "  while date < end_date :\n",
        "\n",
        "    date2 = increment_month(date)\n",
        "    date3 = increment_month(date2)\n",
        "    date_m1 = decrement_month(date)\n",
        "    date_m2 = decrement_month(date_m1)\n",
        "    data = yf.download(\"^GSPC\",start=date_m2, end=date)\n",
        "\n",
        "    dates+=[date]\n",
        "\n",
        "    returns = np.log(data.Close / data.Close.shift(1))\n",
        "    range = (data.High - data.Low)\n",
        "    features = pd.concat([returns, range], axis=1).dropna()\n",
        "    features.columns = [\"returns\", \"range\"]\n",
        "\n",
        "    model = hmm.GaussianHMM(n_components=3, covariance_type=\"diag\", n_iter=1000)\n",
        "    model.fit(features)\n",
        "\n",
        "    states = pd.Series(model.predict(features), index=data.index[1:])\n",
        "    states.name = \"state\"\n",
        "\n",
        "    result = states.mode()[0]\n",
        "    T = 22/252\n",
        "    r = 0.05\n",
        "    sigma = jpm_volatility\n",
        "    spot = list(data.Close)[0]\n",
        "\n",
        "    #vérification de la condition de vente\n",
        "\n",
        "    for val in portfolio :\n",
        "      gains -= val['Value']\n",
        "      if val[\"Nature\"] == \"BullSpread\" :\n",
        "        if val[\"Strikes\"][1] < spot :\n",
        "          print('Exercice !')\n",
        "          gains +=  val[\"Strikes\"][1] - val[\"Strikes\"][0]\n",
        "          Index += val[\"Strikes\"][1] - val[\"Strikes\"][0]\n",
        "        elif val[\"Strikes\"][0] < spot < val[\"Strikes\"][1] :\n",
        "          print(\"Exercice !\")\n",
        "          gains+= val[\"Strikes\"][0] - spot\n",
        "          Index+= val[\"Strikes\"][0] - spot\n",
        "        else :\n",
        "          pass\n",
        "\n",
        "      elif val['Nature'] == \"BearSpread\" :\n",
        "        if val[\"Strikes\"][1] < spot :\n",
        "          pass\n",
        "        elif val[\"Strikes\"][0] < spot < val[\"Strikes\"][1] :\n",
        "          print(\"Exercice !\")\n",
        "          gains +=  val[\"Strikes\"][1] - spot\n",
        "          Index += val[\"Strikes\"][1] - spot\n",
        "        elif spot < val[\"Strikes\"][0]:\n",
        "          print('Exercice !')\n",
        "          gains +=  val[\"Strikes\"][1] - val[\"Strikes\"][0]\n",
        "          Index+= val[\"Strikes\"][1] - val[\"Strikes\"][0]\n",
        "\n",
        "      elif val['Nature']=='Butterfly' :\n",
        "        if spot <= val['Strikes'][0] :\n",
        "          pass\n",
        "        elif val['Strikes'][0] < spot < val['Strikes'][1] :\n",
        "          gains+= spot - val['Strikes'][0]\n",
        "          Index+= spot - val['Strikes'][0]\n",
        "        elif val['Strikes'][1] < spot < val['Strikes'][2] :\n",
        "          gains+=  val['Strikes'][2] - spot\n",
        "          Index+= val['Strikes'][2] - spot\n",
        "        else :\n",
        "          pass\n",
        "\n",
        "      portfolio.pop(portfolio.index(val))\n",
        "\n",
        "\n",
        "    if result == 2 : #bear market\n",
        "      K1 = spot\n",
        "      K2 = 1.20 *spot\n",
        "      option1 = StockOption(spot,K1,r,T)\n",
        "      option2 = StockOption(spot,K2,r,T)\n",
        "\n",
        "      bear = Strategy(option1,option2,option2).bear_spread() #On peut potentiellement en acheter 10, 100 ,etc...\n",
        "\n",
        "      portfolio+=[bear]\n",
        "\n",
        "    elif result ==1 : #flat\n",
        "      K1 = 1.05*spot\n",
        "      K2 = 1.10*spot\n",
        "      K3 = 1.20*spot\n",
        "\n",
        "      option1 = StockOption(spot,K1,r,T)\n",
        "      option2 = StockOption(spot,K2,r,T)\n",
        "      option3 = StockOption(spot,K3,r,T)\n",
        "\n",
        "      butterfly = Strategy(option1,option2,option3).butterfly()\n",
        "\n",
        "      portfolio+=[butterfly]\n",
        "\n",
        "    elif result == 0 : #Bull market\n",
        "      K1 = 1.10*spot\n",
        "      K2 = 1.20*spot\n",
        "\n",
        "      option1 = StockOption(spot,K1,r,T)\n",
        "      option2 = StockOption(spot,K2,r,T)\n",
        "\n",
        "      bull = Strategy(option1,option2,option2).bull_spread()\n",
        "\n",
        "      portfolio+=[bull]\n",
        "\n",
        "    Index_value+=[Index]\n",
        "    Gains+=[gains]\n",
        "\n",
        "    date = date2\n",
        "    #print(portfolio)\n",
        "\n",
        "  print(\"Gains réalisés : \", gains)\n",
        "  return [dates, Index_value,Gains]\n",
        "\n",
        "results = strategy(datetime(2019, 1, 1))"
      ],
      "metadata": {
        "colab": {
          "base_uri": "https://localhost:8080/"
        },
        "id": "t-aS6rgZrl7J",
        "outputId": "932add7b-38c0-429c-ca99-b20e5375f3dc"
      },
      "execution_count": 34,
      "outputs": [
        {
          "output_type": "stream",
          "name": "stderr",
          "text": [
            "[*********************100%***********************]  1 of 1 completed\n",
            "[*********************100%***********************]  1 of 1 completed\n",
            "[*********************100%***********************]  1 of 1 completed\n",
            "[*********************100%***********************]  1 of 1 completed\n",
            "[*********************100%***********************]  1 of 1 completed\n",
            "[*********************100%***********************]  1 of 1 completed\n"
          ]
        },
        {
          "output_type": "stream",
          "name": "stdout",
          "text": [
            "Exercice !\n",
            "Exercice !\n"
          ]
        },
        {
          "output_type": "stream",
          "name": "stderr",
          "text": [
            "[*********************100%***********************]  1 of 1 completed\n",
            "[*********************100%***********************]  1 of 1 completed\n",
            "[*********************100%***********************]  1 of 1 completed\n",
            "[*********************100%***********************]  1 of 1 completed\n",
            "[*********************100%***********************]  1 of 1 completed\n",
            "[*********************100%***********************]  1 of 1 completed\n",
            "[*********************100%***********************]  1 of 1 completed\n",
            "[*********************100%***********************]  1 of 1 completed"
          ]
        },
        {
          "output_type": "stream",
          "name": "stdout",
          "text": [
            "Exercice !\n",
            "Exercice !\n",
            "Exercice !\n"
          ]
        },
        {
          "output_type": "stream",
          "name": "stderr",
          "text": [
            "\n",
            "[*********************100%***********************]  1 of 1 completed\n",
            "[*********************100%***********************]  1 of 1 completed\n",
            "[*********************100%***********************]  1 of 1 completed"
          ]
        },
        {
          "output_type": "stream",
          "name": "stdout",
          "text": [
            "Exercice !\n",
            "Exercice !\n"
          ]
        },
        {
          "output_type": "stream",
          "name": "stderr",
          "text": [
            "\n",
            "[*********************100%***********************]  1 of 1 completed\n",
            "[*********************100%***********************]  1 of 1 completed\n",
            "[*********************100%***********************]  1 of 1 completed\n",
            "WARNING:hmmlearn.base:Model is not converging.  Current: -67.70159388258523 is not greater than -67.69454998116122. Delta is -0.007043901424012233\n",
            "[*********************100%***********************]  1 of 1 completed"
          ]
        },
        {
          "output_type": "stream",
          "name": "stdout",
          "text": [
            "Exercice !\n"
          ]
        },
        {
          "output_type": "stream",
          "name": "stderr",
          "text": [
            "\n",
            "[*********************100%***********************]  1 of 1 completed\n",
            "[*********************100%***********************]  1 of 1 completed\n",
            "[*********************100%***********************]  1 of 1 completed\n",
            "[*********************100%***********************]  1 of 1 completed\n",
            "[*********************100%***********************]  1 of 1 completed\n",
            "[*********************100%***********************]  1 of 1 completed"
          ]
        },
        {
          "output_type": "stream",
          "name": "stdout",
          "text": [
            "Exercice !\n",
            "Exercice !\n"
          ]
        },
        {
          "output_type": "stream",
          "name": "stderr",
          "text": [
            "\n",
            "[*********************100%***********************]  1 of 1 completed\n",
            "[*********************100%***********************]  1 of 1 completed\n"
          ]
        },
        {
          "output_type": "stream",
          "name": "stdout",
          "text": [
            "Exercice !\n",
            "Exercice !\n"
          ]
        },
        {
          "output_type": "stream",
          "name": "stderr",
          "text": [
            "[*********************100%***********************]  1 of 1 completed\n",
            "[*********************100%***********************]  1 of 1 completed\n",
            "WARNING:hmmlearn.base:Model is not converging.  Current: -40.9369528391688 is not greater than -40.936183000677985. Delta is -0.0007698384908110256\n",
            "[*********************100%***********************]  1 of 1 completed"
          ]
        },
        {
          "output_type": "stream",
          "name": "stdout",
          "text": [
            "Exercice !\n"
          ]
        },
        {
          "output_type": "stream",
          "name": "stderr",
          "text": [
            "\n",
            "[*********************100%***********************]  1 of 1 completed\n",
            "[*********************100%***********************]  1 of 1 completed\n",
            "[*********************100%***********************]  1 of 1 completed\n",
            "[*********************100%***********************]  1 of 1 completed\n",
            "[*********************100%***********************]  1 of 1 completed\n",
            "WARNING:hmmlearn.base:Model is not converging.  Current: -68.31766007532467 is not greater than -68.30927023568285. Delta is -0.00838983964182205\n",
            "[*********************100%***********************]  1 of 1 completed\n",
            "[*********************100%***********************]  1 of 1 completed\n",
            "[*********************100%***********************]  1 of 1 completed\n",
            "[*********************100%***********************]  1 of 1 completed\n",
            "[*********************100%***********************]  1 of 1 completed\n"
          ]
        },
        {
          "output_type": "stream",
          "name": "stdout",
          "text": [
            "Exercice !\n",
            "Exercice !\n"
          ]
        },
        {
          "output_type": "stream",
          "name": "stderr",
          "text": [
            "[*********************100%***********************]  1 of 1 completed\n",
            "[*********************100%***********************]  1 of 1 completed\n",
            "[*********************100%***********************]  1 of 1 completed\n",
            "[*********************100%***********************]  1 of 1 completed\n",
            "WARNING:hmmlearn.base:Model is not converging.  Current: -76.59897736187405 is not greater than -76.59835738075081. Delta is -0.0006199811232363572\n",
            "[*********************100%***********************]  1 of 1 completed\n",
            "[*********************100%***********************]  1 of 1 completed\n",
            "WARNING:hmmlearn.base:Model is not converging.  Current: -85.09276119347244 is not greater than -85.06013050513909. Delta is -0.032630688333355806\n",
            "[*********************100%***********************]  1 of 1 completed"
          ]
        },
        {
          "output_type": "stream",
          "name": "stdout",
          "text": [
            "Exercice !\n"
          ]
        },
        {
          "output_type": "stream",
          "name": "stderr",
          "text": [
            "\n",
            "WARNING:hmmlearn.base:Model is not converging.  Current: -73.27933496683035 is not greater than -73.25494053885849. Delta is -0.024394427971856203\n",
            "[*********************100%***********************]  1 of 1 completed\n",
            "[*********************100%***********************]  1 of 1 completed\n",
            "[*********************100%***********************]  1 of 1 completed\n",
            "[*********************100%***********************]  1 of 1 completed"
          ]
        },
        {
          "output_type": "stream",
          "name": "stdout",
          "text": [
            "Exercice !\n"
          ]
        },
        {
          "output_type": "stream",
          "name": "stderr",
          "text": [
            "\n",
            "[*********************100%***********************]  1 of 1 completed\n",
            "[*********************100%***********************]  1 of 1 completed\n",
            "[*********************100%***********************]  1 of 1 completed\n"
          ]
        },
        {
          "output_type": "stream",
          "name": "stdout",
          "text": [
            "Exercice !\n"
          ]
        },
        {
          "output_type": "stream",
          "name": "stderr",
          "text": [
            "[*********************100%***********************]  1 of 1 completed\n",
            "[*********************100%***********************]  1 of 1 completed\n",
            "[*********************100%***********************]  1 of 1 completed\n"
          ]
        },
        {
          "output_type": "stream",
          "name": "stdout",
          "text": [
            "Exercice !\n"
          ]
        },
        {
          "output_type": "stream",
          "name": "stderr",
          "text": [
            "\r[*********************100%***********************]  1 of 1 completed\n",
            "WARNING:hmmlearn.base:Model is not converging.  Current: -48.50784303767566 is not greater than -48.507093407010466. Delta is -0.0007496306651972873\n",
            "[*********************100%***********************]  1 of 1 completed"
          ]
        },
        {
          "output_type": "stream",
          "name": "stdout",
          "text": [
            "Exercice !\n"
          ]
        },
        {
          "output_type": "stream",
          "name": "stderr",
          "text": [
            "\n",
            "[*********************100%***********************]  1 of 1 completed\n",
            "[*********************100%***********************]  1 of 1 completed\n",
            "[*********************100%***********************]  1 of 1 completed\n",
            "[*********************100%***********************]  1 of 1 completed\n",
            "[*********************100%***********************]  1 of 1 completed\n",
            "[*********************100%***********************]  1 of 1 completed"
          ]
        },
        {
          "output_type": "stream",
          "name": "stdout",
          "text": [
            "Exercice !\n",
            "Exercice !\n"
          ]
        },
        {
          "output_type": "stream",
          "name": "stderr",
          "text": [
            "\n",
            "[*********************100%***********************]  1 of 1 completed\n",
            "[*********************100%***********************]  1 of 1 completed\n",
            "[*********************100%***********************]  1 of 1 completed"
          ]
        },
        {
          "output_type": "stream",
          "name": "stdout",
          "text": [
            "Exercice !\n",
            "Gains réalisés :  12460.140017049105\n"
          ]
        },
        {
          "output_type": "stream",
          "name": "stderr",
          "text": [
            "\n"
          ]
        }
      ]
    },
    {
      "cell_type": "code",
      "source": [
        "import matplotlib.pyplot as plt\n",
        "\n",
        "#plt.plot(results[0],results[1])\n",
        "plt.plot(results[0],results[2])\n",
        "plt.show()"
      ],
      "metadata": {
        "colab": {
          "base_uri": "https://localhost:8080/",
          "height": 430
        },
        "id": "a_ENVass4Tar",
        "outputId": "ea119b81-dd72-4876-f03a-458d018e9b0b"
      },
      "execution_count": 35,
      "outputs": [
        {
          "output_type": "display_data",
          "data": {
            "text/plain": [
              "<Figure size 640x480 with 1 Axes>"
            ],
            "image/png": "[encoded data removed]"
          },
          "metadata": {}
        }
      ]
    },
    {
      "cell_type": "code",
      "source": [
        "stock = yf.download('^GSPC', start='2019-01-01', end='2024-09-13')\n",
        "plt.plot(stock['Close'], label='S&P500', color='blue')\n",
        "plt.show()"
      ],
      "metadata": {
        "colab": {
          "base_uri": "https://localhost:8080/",
          "height": 447
        },
        "id": "xWfHZox7FmjW",
        "outputId": "6d2151ed-29ad-49c2-dc6a-e7e357824fe7"
      },
      "execution_count": 41,
      "outputs": [
        {
          "output_type": "stream",
          "name": "stderr",
          "text": [
            "\r[*********************100%***********************]  1 of 1 completed\n"
          ]
        },
        {
          "output_type": "display_data",
          "data": {
            "text/plain": [
              "<Figure size 640x480 with 1 Axes>"
            ],
            "image/png": "[encoded data removed]"
          },
          "metadata": {}
        }
      ]
    },
    {
      "cell_type": "code",
      "source": [],
      "metadata": {
        "id": "mBSlrjBAZfaO"
      },
      "execution_count": null,
      "outputs": []
    }
  ]
}